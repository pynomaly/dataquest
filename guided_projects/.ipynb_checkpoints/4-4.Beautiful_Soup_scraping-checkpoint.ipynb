{
 "cells": [
  {
   "cell_type": "markdown",
   "metadata": {},
   "source": [
    "# Web Scraping with BeautifulSoup"
   ]
  },
  {
   "cell_type": "code",
   "execution_count": 1,
   "metadata": {},
   "outputs": [],
   "source": [
    "from requests import get"
   ]
  },
  {
   "cell_type": "code",
   "execution_count": 2,
   "metadata": {},
   "outputs": [
    {
     "name": "stdout",
     "output_type": "stream",
     "text": [
      "\n",
      "\n",
      "\n",
      "<!DOCTYPE html>\n",
      "<html\n",
      "    xmlns:og=\"http://ogp.me/ns#\"\n",
      "    xmlns:fb=\"http://www.facebook.com/2008/fbml\">\n",
      "    <head>\n",
      "         \n",
      "        <meta charset=\"utf-8\">\n",
      "        <meta http-equiv=\"X-UA-Compatible\" content=\"IE=edge\">\n",
      "\n",
      "    <meta name=\"apple-itunes-app\" content=\"app-id=342792525, app-argument=imdb:///?src=mdot\">\n",
      "\n",
      "\n",
      "\n",
      "        <script type=\"text/javascript\">var IMDbTimer={starttime: new Date().getTime(),pt:'java'};</script>\n",
      "\n",
      "<script>\n",
      "    if (typeof uet == 'function') {\n",
      "      uet(\"bb\", \"LoadTitle\"\n"
     ]
    }
   ],
   "source": [
    "headers = {\"Accept-Language\": \"en-US, en;q=0.5\"}\n",
    "url = \"https://www.imdb.com/search/title/?release_date=2017&sort=num_votes,desc&page=1\"\n",
    "response = get(url, headers=headers)\n",
    "print(response.text[:500])"
   ]
  },
  {
   "cell_type": "code",
   "execution_count": 3,
   "metadata": {},
   "outputs": [],
   "source": [
    "from bs4 import BeautifulSoup\n",
    "html_soup = BeautifulSoup(response.text, 'html.parser')"
   ]
  },
  {
   "cell_type": "code",
   "execution_count": 5,
   "metadata": {},
   "outputs": [
    {
     "name": "stdout",
     "output_type": "stream",
     "text": [
      "50\n"
     ]
    }
   ],
   "source": [
    "movie_containers = html_soup.find_all('div', class_= 'lister-item mode-advanced')\n",
    "print(len(movie_containers))"
   ]
  },
  {
   "cell_type": "markdown",
   "metadata": {},
   "source": [
    "## Name of the movie"
   ]
  },
  {
   "cell_type": "code",
   "execution_count": 6,
   "metadata": {},
   "outputs": [],
   "source": [
    "first_movie = movie_containers[0]"
   ]
  },
  {
   "cell_type": "code",
   "execution_count": 7,
   "metadata": {},
   "outputs": [],
   "source": [
    "name = first_movie.h3.a"
   ]
  },
  {
   "cell_type": "code",
   "execution_count": 8,
   "metadata": {},
   "outputs": [
    {
     "name": "stdout",
     "output_type": "stream",
     "text": [
      "<a href=\"/title/tt3315342/\">Logan</a>\n"
     ]
    }
   ],
   "source": [
    "print(name)"
   ]
  },
  {
   "cell_type": "code",
   "execution_count": 9,
   "metadata": {},
   "outputs": [],
   "source": [
    "first_name = first_movie.h3.a.text"
   ]
  },
  {
   "cell_type": "code",
   "execution_count": 10,
   "metadata": {},
   "outputs": [
    {
     "name": "stdout",
     "output_type": "stream",
     "text": [
      "Logan\n"
     ]
    }
   ],
   "source": [
    "print(first_name)"
   ]
  },
  {
   "cell_type": "markdown",
   "metadata": {},
   "source": [
    "## Year of the movie"
   ]
  },
  {
   "cell_type": "code",
   "execution_count": 11,
   "metadata": {},
   "outputs": [
    {
     "name": "stdout",
     "output_type": "stream",
     "text": [
      "<span class=\"lister-item-year text-muted unbold\">(2017)</span>\n"
     ]
    }
   ],
   "source": [
    "# selector <span class=\"lister-item-year text-muted unbold\">(2017)</span>\n",
    "first_year_code = first_movie.h3.find('span', class_=\"lister-item-year text-muted unbold\")\n",
    "print(first_year_code)"
   ]
  },
  {
   "cell_type": "code",
   "execution_count": 12,
   "metadata": {},
   "outputs": [
    {
     "name": "stdout",
     "output_type": "stream",
     "text": [
      "(2017)\n"
     ]
    }
   ],
   "source": [
    "first_year = first_year_code.text\n",
    "print(first_year)"
   ]
  },
  {
   "cell_type": "markdown",
   "metadata": {},
   "source": [
    "## IMDB rating"
   ]
  },
  {
   "cell_type": "code",
   "execution_count": 13,
   "metadata": {},
   "outputs": [
    {
     "name": "stdout",
     "output_type": "stream",
     "text": [
      "<strong>8.1</strong>\n"
     ]
    }
   ],
   "source": [
    "# selector <div class=\"inline-block ratings-imdb-rating\" name=\"ir\" data-value=\"7,9\">\n",
    "#                   <span class=\"global-sprite rating-star imdb-rating\"></span>\n",
    "#                   <strong>7,9</strong>\n",
    "#          </div>\n",
    "\n",
    "imdb_code = first_movie.strong\n",
    "print(imdb_code)"
   ]
  },
  {
   "cell_type": "code",
   "execution_count": 14,
   "metadata": {},
   "outputs": [],
   "source": [
    "first_imdb = float(imdb_code.text)"
   ]
  },
  {
   "cell_type": "markdown",
   "metadata": {},
   "source": [
    "## The Metascore"
   ]
  },
  {
   "cell_type": "code",
   "execution_count": 15,
   "metadata": {},
   "outputs": [
    {
     "name": "stdout",
     "output_type": "stream",
     "text": [
      "<span class=\"metascore favorable\">77        </span>\n"
     ]
    }
   ],
   "source": [
    "# selector <span class=\"metascore  favorable\">77        </span>\n",
    "metascore_code = first_movie.find('span', class_=\"metascore favorable\")\n",
    "print(metascore_code)"
   ]
  },
  {
   "cell_type": "code",
   "execution_count": 16,
   "metadata": {},
   "outputs": [
    {
     "name": "stdout",
     "output_type": "stream",
     "text": [
      "77\n"
     ]
    }
   ],
   "source": [
    "first_metascore = int(metascore_code.text)\n",
    "print(first_metascore)"
   ]
  },
  {
   "cell_type": "markdown",
   "metadata": {},
   "source": [
    "## The number of votes"
   ]
  },
  {
   "cell_type": "code",
   "execution_count": 17,
   "metadata": {},
   "outputs": [
    {
     "name": "stdout",
     "output_type": "stream",
     "text": [
      "<span data-value=\"591671\" name=\"nv\">591,671</span>\n"
     ]
    }
   ],
   "source": [
    "# selector <span name=\"nv\" data-value=\"591656\">591.656</span>\n",
    "votes = first_movie.find('span', attrs = {'name':'nv'})\n",
    "print(votes)"
   ]
  },
  {
   "cell_type": "code",
   "execution_count": 18,
   "metadata": {},
   "outputs": [
    {
     "name": "stdout",
     "output_type": "stream",
     "text": [
      "591671\n"
     ]
    }
   ],
   "source": [
    "first_votes = int(votes['data-value'])\n",
    "print(first_votes)"
   ]
  },
  {
   "cell_type": "markdown",
   "metadata": {},
   "source": [
    "# The script for a single page"
   ]
  },
  {
   "cell_type": "code",
   "execution_count": 19,
   "metadata": {},
   "outputs": [],
   "source": [
    "# Lists to store the scraped data\n",
    "names = []\n",
    "years = []\n",
    "imdb_ratings = []\n",
    "metascore = []\n",
    "votes = []\n",
    "\n",
    "#Extract the data from individual film container\n",
    "for container in movie_containers:\n",
    "    #If the movie has metascore, then extract\n",
    "    if container.find('div', class_='ratings-metascore') is not None:\n",
    "        name = container.h3.a.text\n",
    "        names.append(name)\n",
    "        \n",
    "        year = container.h3.find('span', class_=\"lister-item-year\").text\n",
    "        years.append(year)\n",
    "        \n",
    "        imdb = float(container.strong.text)\n",
    "        imdb_ratings.append(imdb)\n",
    "        \n",
    "        m_score = container.find('span', class_=\"metascore\").text\n",
    "        metascore.append(int(m_score))\n",
    "        \n",
    "        vote = container.find('span', attrs = {'name':'nv'})['data-value']\n",
    "        votes.append(int(vote))"
   ]
  },
  {
   "cell_type": "code",
   "execution_count": 20,
   "metadata": {},
   "outputs": [
    {
     "name": "stdout",
     "output_type": "stream",
     "text": [
      "['Logan', 'Thor: Ragnarok', 'Guardians of the Galaxy Vol. 2', 'Wonder Woman', 'Star Wars: Episode VIII - The Last Jedi', 'Dunkirk', 'Spider-Man: Homecoming', 'Get Out', 'It', 'Blade Runner 2049', 'Baby Driver', 'Three Billboards Outside Ebbing, Missouri', 'Justice League', 'The Shape of Water', 'John Wick: Chapter 2', 'Coco', 'Jumanji: Welcome to the Jungle', 'Beauty and the Beast', 'Kong: Skull Island', 'Kingsman: The Golden Circle', 'Pirates of the Caribbean: Dead Men Tell No Tales', 'Alien: Covenant', 'The Greatest Showman', 'War for the Planet of the Apes', 'Lady Bird', 'Life', 'The Fate of the Furious', 'Murder on the Orient Express', 'Ghost in the Shell', 'Wind River', 'King Arthur: Legend of the Sword', 'Call Me by Your Name', \"The Hitman's Bodyguard\", 'Mother!', 'The Mummy', 'Atomic Blonde', 'Bright', 'I, Tonya', 'Valerian and the City of a Thousand Planets', 'Darkest Hour', 'Baywatch', 'American Made', 'Transformers: The Last Knight']\n"
     ]
    }
   ],
   "source": [
    "print(names)"
   ]
  },
  {
   "cell_type": "markdown",
   "metadata": {},
   "source": [
    "## Put the data in pandas"
   ]
  },
  {
   "cell_type": "code",
   "execution_count": 21,
   "metadata": {},
   "outputs": [
    {
     "name": "stdout",
     "output_type": "stream",
     "text": [
      "                                               movie        year  imdb  \\\n",
      "0                                              Logan      (2017)   8.1   \n",
      "1                                     Thor: Ragnarok      (2017)   7.9   \n",
      "2                     Guardians of the Galaxy Vol. 2      (2017)   7.6   \n",
      "3                                       Wonder Woman      (2017)   7.4   \n",
      "4            Star Wars: Episode VIII - The Last Jedi      (2017)   7.1   \n",
      "5                                            Dunkirk      (2017)   7.9   \n",
      "6                             Spider-Man: Homecoming      (2017)   7.4   \n",
      "7                                            Get Out  (I) (2017)   7.7   \n",
      "8                                                 It  (I) (2017)   7.3   \n",
      "9                                  Blade Runner 2049      (2017)   8.0   \n",
      "10                                       Baby Driver      (2017)   7.6   \n",
      "11         Three Billboards Outside Ebbing, Missouri      (2017)   8.2   \n",
      "12                                    Justice League      (2017)   6.4   \n",
      "13                                The Shape of Water      (2017)   7.3   \n",
      "14                              John Wick: Chapter 2      (2017)   7.5   \n",
      "15                                              Coco  (I) (2017)   8.4   \n",
      "16                    Jumanji: Welcome to the Jungle      (2017)   6.9   \n",
      "17                              Beauty and the Beast      (2017)   7.2   \n",
      "18                                Kong: Skull Island      (2017)   6.6   \n",
      "19                       Kingsman: The Golden Circle      (2017)   6.7   \n",
      "20  Pirates of the Caribbean: Dead Men Tell No Tales      (2017)   6.6   \n",
      "21                                   Alien: Covenant      (2017)   6.4   \n",
      "22                              The Greatest Showman      (2017)   7.6   \n",
      "23                    War for the Planet of the Apes      (2017)   7.4   \n",
      "24                                         Lady Bird      (2017)   7.4   \n",
      "25                                              Life  (I) (2017)   6.6   \n",
      "26                           The Fate of the Furious      (2017)   6.7   \n",
      "27                      Murder on the Orient Express      (2017)   6.5   \n",
      "28                                Ghost in the Shell      (2017)   6.3   \n",
      "29                                        Wind River      (2017)   7.7   \n",
      "30                  King Arthur: Legend of the Sword      (2017)   6.7   \n",
      "31                              Call Me by Your Name      (2017)   7.9   \n",
      "32                            The Hitman's Bodyguard      (2017)   6.9   \n",
      "33                                           Mother!      (2017)   6.6   \n",
      "34                                         The Mummy      (2017)   5.4   \n",
      "35                                     Atomic Blonde      (2017)   6.7   \n",
      "36                                            Bright  (I) (2017)   6.4   \n",
      "37                                          I, Tonya      (2017)   7.5   \n",
      "38       Valerian and the City of a Thousand Planets      (2017)   6.5   \n",
      "39                                      Darkest Hour      (2017)   7.4   \n",
      "40                                          Baywatch      (2017)   5.5   \n",
      "41                                     American Made      (2017)   7.1   \n",
      "42                     Transformers: The Last Knight      (2017)   5.2   \n",
      "\n",
      "    metascore   votes  \n",
      "0          77  591671  \n",
      "1          74  524793  \n",
      "2          67  516419  \n",
      "3          76  511035  \n",
      "4          85  503846  \n",
      "5          94  492094  \n",
      "6          73  464960  \n",
      "7          84  434890  \n",
      "8          69  414168  \n",
      "9          81  405376  \n",
      "10         86  390790  \n",
      "11         88  373066  \n",
      "12         45  349309  \n",
      "13         87  331029  \n",
      "14         75  325191  \n",
      "15         81  312132  \n",
      "16         58  271873  \n",
      "17         65  250612  \n",
      "18         62  250103  \n",
      "19         44  245616  \n",
      "20         39  239783  \n",
      "21         65  236032  \n",
      "22         48  210994  \n",
      "23         82  210983  \n",
      "24         94  193277  \n",
      "25         54  190503  \n",
      "26         56  189557  \n",
      "27         52  188743  \n",
      "28         52  184168  \n",
      "29         73  180741  \n",
      "30         41  176618  \n",
      "31         93  170785  \n",
      "32         47  170674  \n",
      "33         75  170325  \n",
      "34         34  161646  \n",
      "35         63  159956  \n",
      "36         29  155256  \n",
      "37         77  154486  \n",
      "38         51  148676  \n",
      "39         75  148126  \n",
      "40         37  147002  \n",
      "41         65  142308  \n",
      "42         27  125315  \n"
     ]
    }
   ],
   "source": [
    "import pandas as pd\n",
    "test_df = pd.DataFrame({\n",
    "    'movie': names,\n",
    "    'year': years,\n",
    "    'imdb': imdb_ratings,\n",
    "    'metascore': metascore,\n",
    "    'votes': votes\n",
    "})\n",
    "print(test_df)"
   ]
  },
  {
   "cell_type": "code",
   "execution_count": 22,
   "metadata": {},
   "outputs": [
    {
     "name": "stdout",
     "output_type": "stream",
     "text": [
      "<class 'pandas.core.frame.DataFrame'>\n",
      "RangeIndex: 43 entries, 0 to 42\n",
      "Data columns (total 5 columns):\n",
      "movie        43 non-null object\n",
      "year         43 non-null object\n",
      "imdb         43 non-null float64\n",
      "metascore    43 non-null int64\n",
      "votes        43 non-null int64\n",
      "dtypes: float64(1), int64(2), object(2)\n",
      "memory usage: 1.8+ KB\n",
      "None\n"
     ]
    }
   ],
   "source": [
    "print(test_df.info())"
   ]
  },
  {
   "cell_type": "markdown",
   "metadata": {},
   "source": [
    "## The script for multiple pages"
   ]
  },
  {
   "cell_type": "code",
   "execution_count": 23,
   "metadata": {},
   "outputs": [],
   "source": [
    "# Create a list called pages, and populate it with the strings corresponding to the first 4 pages.\n",
    "# Create a list called years_url and populate it with the strings corresponding to the years 2000-2017.\n",
    "\n",
    "pages = [str(i) for i in range(1, 5)]\n",
    "years_url = [str(i) for i in range(2000, 2018)]"
   ]
  },
  {
   "cell_type": "code",
   "execution_count": 24,
   "metadata": {},
   "outputs": [],
   "source": [
    "# Controlling the crawl-rate\n",
    "from time import sleep\n",
    "from random import randint"
   ]
  },
  {
   "cell_type": "code",
   "execution_count": 25,
   "metadata": {},
   "outputs": [
    {
     "name": "stdout",
     "output_type": "stream",
     "text": [
      "Request: 1: Frequency: 0.3332980246331822 requests/s\n",
      "Request: 2: Frequency: 0.3332571892405298 requests/s\n",
      "Request: 3: Frequency: 0.3331706699941425 requests/s\n",
      "Request: 4: Frequency: 0.3331110173030252 requests/s\n",
      "Request: 5: Frequency: 0.3330795103066422 requests/s\n"
     ]
    }
   ],
   "source": [
    "# Monitoring the loop as it’s still going\n",
    "from IPython.core.display import clear_output # not working!!!\n",
    "\n",
    "# Set a starting time using the time() function from the time module, and assign the value to start_time.\n",
    "from time import time\n",
    "start_time = time()\n",
    "\n",
    "# Assign 0 to the variable requests which we’ll use to count the number of requests.\n",
    "requests = 0\n",
    "\n",
    "# Start a loop, and then with each iteration: \n",
    "#    Simulate a request.\n",
    "#    Increment the number of requests by 1.\n",
    "#    Pause the loop for a time interval between 8 and 15 seconds.\n",
    "#    Calculate the elapsed time since the first request, and assign the value to elapsed_time.\n",
    "#    Print the number of requests and the frequency.\n",
    "\n",
    "for _ in range(5):\n",
    "    #Request would go here\n",
    "    requests += 1\n",
    "    sleep(randint(1,3))\n",
    "    elapsed_time = time() - start_time\n",
    "    print('Request: {}: Frequency: {} requests/s'.format(requests, requests/elapsed_time))\n",
    "\n",
    "# We’ll clear the output after each iteration\n",
    "clear_output(wait = True) # wait parameter of clear_output to wait replacing until new output"
   ]
  },
  {
   "cell_type": "code",
   "execution_count": 26,
   "metadata": {},
   "outputs": [],
   "source": [
    "# We’ll use the warn() function from the warnings module to throw a warning if the status code is not 200.\n",
    "\n",
    "from warnings import warn\n",
    "#warn(\"Warning Simulation\")"
   ]
  },
  {
   "cell_type": "markdown",
   "metadata": {},
   "source": [
    "# Everything together"
   ]
  },
  {
   "cell_type": "code",
   "execution_count": 27,
   "metadata": {},
   "outputs": [
    {
     "name": "stdout",
     "output_type": "stream",
     "text": [
      "Request:72; Frequency: 0.07870943534265927 requests/s\n"
     ]
    }
   ],
   "source": [
    "names = []\n",
    "years = []\n",
    "imdb_ratings = []\n",
    "metascores = []\n",
    "votes = []\n",
    "\n",
    "start_time = time()\n",
    "requests = 0\n",
    "\n",
    "# Preparing the monitoring of the loop\n",
    "start_time = time()\n",
    "requests = 0\n",
    "\n",
    "# For every year in the interval 2000-2017\n",
    "for year_url in years_url:\n",
    "\n",
    "    # For every page in the interval 1-4\n",
    "    for page in pages:\n",
    "\n",
    "        # Make a get request\n",
    "        response = get('http://www.imdb.com/search/title?release_date=' + year_url +\n",
    "        '&sort=num_votes,desc&page=' + page, headers = headers)\n",
    "\n",
    "        # Pause the loop\n",
    "        sleep(randint(8,15))\n",
    "\n",
    "        # Monitor the requests\n",
    "        requests += 1\n",
    "        elapsed_time = time() - start_time\n",
    "        print('Request:{}; Frequency: {} requests/s'.format(requests, requests/elapsed_time))\n",
    "        clear_output(wait = True)\n",
    "\n",
    "        # Throw a warning for non-200 status codes\n",
    "        if response.status_code != 200:\n",
    "            warn('Request: {}; Status code: {}'.format(requests, response.status_code))\n",
    "\n",
    "        # Break the loop if the number of requests is greater than expected\n",
    "        if requests > 72:\n",
    "            warn('Number of requests was greater than expected.')\n",
    "            break\n",
    "\n",
    "        # Parse the content of the request with BeautifulSoup\n",
    "        page_html = BeautifulSoup(response.text, 'html.parser')\n",
    "\n",
    "        # Select all the 50 movie containers from a single page\n",
    "        mv_containers = page_html.find_all('div', class_ = 'lister-item mode-advanced')\n",
    "\n",
    "        # For every movie of these 50\n",
    "        for container in mv_containers:\n",
    "            # If the movie has a Metascore, then:\n",
    "            if container.find('div', class_ = 'ratings-metascore') is not None:\n",
    "\n",
    "                # Scrape the name\n",
    "                name = container.h3.a.text\n",
    "                names.append(name)\n",
    "\n",
    "                # Scrape the year\n",
    "                year = container.h3.find('span', class_ = 'lister-item-year').text\n",
    "                years.append(year)\n",
    "\n",
    "                # Scrape the IMDB rating\n",
    "                imdb = float(container.strong.text)\n",
    "                imdb_ratings.append(imdb)\n",
    "\n",
    "                # Scrape the Metascore\n",
    "                m_score = container.find('span', class_ = 'metascore').text\n",
    "                metascores.append(int(m_score))\n",
    "\n",
    "                # Scrape the number of votes\n",
    "                vote = container.find('span', attrs = {'name':'nv'})['data-value']\n",
    "                votes.append(int(vote))"
   ]
  },
  {
   "cell_type": "markdown",
   "metadata": {},
   "source": [
    "# Examining the scraped data"
   ]
  },
  {
   "cell_type": "code",
   "execution_count": 28,
   "metadata": {},
   "outputs": [
    {
     "name": "stdout",
     "output_type": "stream",
     "text": [
      "<class 'pandas.core.frame.DataFrame'>\n",
      "RangeIndex: 3276 entries, 0 to 3275\n",
      "Data columns (total 5 columns):\n",
      "movie        3276 non-null object\n",
      "year         3276 non-null object\n",
      "imdb         3276 non-null float64\n",
      "metascore    3276 non-null int64\n",
      "votes        3276 non-null int64\n",
      "dtypes: float64(1), int64(2), object(2)\n",
      "memory usage: 128.1+ KB\n",
      "None\n"
     ]
    }
   ],
   "source": [
    "movie_ratings = pd.DataFrame({\n",
    "    'movie': names,\n",
    "    'year': years,\n",
    "    'imdb': imdb_ratings,\n",
    "    'metascore': metascores,\n",
    "    'votes': votes\n",
    "})\n",
    "print(movie_ratings.info())"
   ]
  },
  {
   "cell_type": "code",
   "execution_count": 29,
   "metadata": {},
   "outputs": [
    {
     "name": "stdout",
     "output_type": "stream",
     "text": [
      "                    movie    year  imdb  metascore    votes\n",
      "0               Gladiator  (2000)   8.5         67  1254118\n",
      "1                 Memento  (2000)   8.4         80  1057944\n",
      "2                  Snatch  (2000)   8.3         55   738209\n",
      "3     Requiem for a Dream  (2000)   8.3         68   720429\n",
      "4                   X-Men  (2000)   7.4         64   548069\n",
      "5               Cast Away  (2000)   7.8         73   486521\n",
      "6         American Psycho  (2000)   7.6         64   448209\n",
      "7             Unbreakable  (2000)   7.3         62   366945\n",
      "8        Meet the Parents  (2000)   7.0         73   297958\n",
      "9  Mission: Impossible II  (2000)   6.1         59   297939\n"
     ]
    }
   ],
   "source": [
    "print(movie_ratings.head(10))"
   ]
  },
  {
   "cell_type": "code",
   "execution_count": 30,
   "metadata": {},
   "outputs": [
    {
     "data": {
      "text/plain": [
       "array(['(2000)', '(I) (2000)', '(2001)', '(2002)', '(2003)', '(2004)',\n",
       "       '(I) (2004)', '(2005)', '(I) (2005)', '(2006)', '(I) (2006)',\n",
       "       '(2007)', '(I) (2007)', '(2008)', '(I) (2008)', '(2009)',\n",
       "       '(I) (2009)', '(2010)', '(I) (2010)', '(2011)', '(I) (2011)',\n",
       "       '(2012)', '(I) (2012)', '(2013)', '(I) (2013)', '(2014)',\n",
       "       '(I) (2014)', '(II) (2014)', '(2015)', '(I) (2015)', '(II) (2015)',\n",
       "       '(2016)', '(II) (2016)', '(I) (2016)', '(IX) (2016)', '(2017)',\n",
       "       '(I) (2017)'], dtype=object)"
      ]
     },
     "execution_count": 30,
     "metadata": {},
     "output_type": "execute_result"
    }
   ],
   "source": [
    "# Convert all the values in the year column to integers.\n",
    "movie_ratings['year'].unique()"
   ]
  },
  {
   "cell_type": "code",
   "execution_count": 31,
   "metadata": {},
   "outputs": [
    {
     "data": {
      "text/plain": [
       "0    2000\n",
       "1    2000\n",
       "2    2000\n",
       "3    2000\n",
       "4    2000\n",
       "Name: year, dtype: int64"
      ]
     },
     "execution_count": 31,
     "metadata": {},
     "output_type": "execute_result"
    }
   ],
   "source": [
    "movie_ratings.loc[:,'year'] = movie_ratings['year'].str[-5:-1].astype(int)\n",
    "movie_ratings['year'].head()"
   ]
  },
  {
   "cell_type": "code",
   "execution_count": 32,
   "metadata": {},
   "outputs": [
    {
     "data": {
      "text/html": [
       "<div>\n",
       "<style scoped>\n",
       "    .dataframe tbody tr th:only-of-type {\n",
       "        vertical-align: middle;\n",
       "    }\n",
       "\n",
       "    .dataframe tbody tr th {\n",
       "        vertical-align: top;\n",
       "    }\n",
       "\n",
       "    .dataframe thead th {\n",
       "        text-align: right;\n",
       "    }\n",
       "</style>\n",
       "<table border=\"1\" class=\"dataframe\">\n",
       "  <thead>\n",
       "    <tr style=\"text-align: right;\">\n",
       "      <th></th>\n",
       "      <th>year</th>\n",
       "      <th>imdb</th>\n",
       "      <th>metascore</th>\n",
       "      <th>votes</th>\n",
       "    </tr>\n",
       "  </thead>\n",
       "  <tbody>\n",
       "    <tr>\n",
       "      <td>min</td>\n",
       "      <td>2000.0</td>\n",
       "      <td>4.1</td>\n",
       "      <td>24.0</td>\n",
       "      <td>96490.0</td>\n",
       "    </tr>\n",
       "    <tr>\n",
       "      <td>max</td>\n",
       "      <td>2017.0</td>\n",
       "      <td>9.0</td>\n",
       "      <td>100.0</td>\n",
       "      <td>2156613.0</td>\n",
       "    </tr>\n",
       "  </tbody>\n",
       "</table>\n",
       "</div>"
      ],
      "text/plain": [
       "       year  imdb  metascore      votes\n",
       "min  2000.0   4.1       24.0    96490.0\n",
       "max  2017.0   9.0      100.0  2156613.0"
      ]
     },
     "execution_count": 32,
     "metadata": {},
     "output_type": "execute_result"
    }
   ],
   "source": [
    "movie_ratings.describe().loc[['min', 'max'], ['year', 'imdb', 'metascore', 'votes']]"
   ]
  },
  {
   "cell_type": "markdown",
   "metadata": {},
   "source": [
    "There are no unexpected outliers."
   ]
  },
  {
   "cell_type": "code",
   "execution_count": 34,
   "metadata": {},
   "outputs": [
    {
     "data": {
      "text/html": [
       "<div>\n",
       "<style scoped>\n",
       "    .dataframe tbody tr th:only-of-type {\n",
       "        vertical-align: middle;\n",
       "    }\n",
       "\n",
       "    .dataframe tbody tr th {\n",
       "        vertical-align: top;\n",
       "    }\n",
       "\n",
       "    .dataframe thead th {\n",
       "        text-align: right;\n",
       "    }\n",
       "</style>\n",
       "<table border=\"1\" class=\"dataframe\">\n",
       "  <thead>\n",
       "    <tr style=\"text-align: right;\">\n",
       "      <th></th>\n",
       "      <th>movie</th>\n",
       "      <th>year</th>\n",
       "      <th>imdb</th>\n",
       "      <th>metascore</th>\n",
       "      <th>votes</th>\n",
       "    </tr>\n",
       "  </thead>\n",
       "  <tbody>\n",
       "    <tr>\n",
       "      <td>0</td>\n",
       "      <td>Gladiator</td>\n",
       "      <td>2000</td>\n",
       "      <td>85.0</td>\n",
       "      <td>67</td>\n",
       "      <td>1254118</td>\n",
       "    </tr>\n",
       "    <tr>\n",
       "      <td>1</td>\n",
       "      <td>Memento</td>\n",
       "      <td>2000</td>\n",
       "      <td>84.0</td>\n",
       "      <td>80</td>\n",
       "      <td>1057944</td>\n",
       "    </tr>\n",
       "    <tr>\n",
       "      <td>2</td>\n",
       "      <td>Snatch</td>\n",
       "      <td>2000</td>\n",
       "      <td>83.0</td>\n",
       "      <td>55</td>\n",
       "      <td>738209</td>\n",
       "    </tr>\n",
       "    <tr>\n",
       "      <td>3</td>\n",
       "      <td>Requiem for a Dream</td>\n",
       "      <td>2000</td>\n",
       "      <td>83.0</td>\n",
       "      <td>68</td>\n",
       "      <td>720429</td>\n",
       "    </tr>\n",
       "    <tr>\n",
       "      <td>4</td>\n",
       "      <td>X-Men</td>\n",
       "      <td>2000</td>\n",
       "      <td>74.0</td>\n",
       "      <td>64</td>\n",
       "      <td>548069</td>\n",
       "    </tr>\n",
       "  </tbody>\n",
       "</table>\n",
       "</div>"
      ],
      "text/plain": [
       "                 movie  year  imdb  metascore    votes\n",
       "0            Gladiator  2000  85.0         67  1254118\n",
       "1              Memento  2000  84.0         80  1057944\n",
       "2               Snatch  2000  83.0         55   738209\n",
       "3  Requiem for a Dream  2000  83.0         68   720429\n",
       "4                X-Men  2000  74.0         64   548069"
      ]
     },
     "execution_count": 34,
     "metadata": {},
     "output_type": "execute_result"
    }
   ],
   "source": [
    "# Normalize metascore and imdb to 0-100 score.\n",
    "movie_ratings['imdb'] = movie_ratings['imdb'] * 10\n",
    "movie_ratings.head()"
   ]
  },
  {
   "cell_type": "code",
   "execution_count": 35,
   "metadata": {},
   "outputs": [],
   "source": [
    "# Save the results\n",
    "movie_ratings.to_csv('/home/anomalia/Escritorio/movie_ratings.csv')"
   ]
  }
 ],
 "metadata": {
  "kernelspec": {
   "display_name": "Python 3",
   "language": "python",
   "name": "python3"
  },
  "language_info": {
   "codemirror_mode": {
    "name": "ipython",
    "version": 3
   },
   "file_extension": ".py",
   "mimetype": "text/x-python",
   "name": "python",
   "nbconvert_exporter": "python",
   "pygments_lexer": "ipython3",
   "version": "3.7.4"
  }
 },
 "nbformat": 4,
 "nbformat_minor": 2
}
