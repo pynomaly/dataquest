{
 "cells": [
  {
   "cell_type": "markdown",
   "metadata": {
    "collapsed": true
   },
   "source": [
    "# Submissions at Hackers News\n",
    "Data set source: [here](https://www.kaggle.com/hacker-news/hacker-news-posts)"
   ]
  },
  {
   "cell_type": "markdown",
   "metadata": {},
   "source": [
    "Start by adding a title and writing a paragraph in a markdown cell introducing the project and the data set. The title and the introduction are tentative at this point, so don't spend too much time here — you can come back at the end of your work to refine them.\n",
    "\n",
    "* Read the hacker_news.csv file in as a list of lists. Assign the result to the variable hn.\n",
    "* Display the first five rows of hn.\n"
   ]
  },
  {
   "cell_type": "code",
   "execution_count": 1,
   "metadata": {},
   "outputs": [
    {
     "name": "stdout",
     "output_type": "stream",
     "text": [
      "[['id', 'title', 'url', 'num_points', 'num_comments', 'author', 'created_at'], ['12224879', 'Interactive Dynamic Video', 'http://www.interactivedynamicvideo.com/', '386', '52', 'ne0phyte', '8/4/2016 11:52'], ['10975351', 'How to Use Open Source and Shut the Fuck Up at the Same Time', 'http://hueniverse.com/2016/01/26/how-to-use-open-source-and-shut-the-fuck-up-at-the-same-time/', '39', '10', 'josep2', '1/26/2016 19:30'], ['11964716', \"Florida DJs May Face Felony for April Fools' Water Joke\", 'http://www.thewire.com/entertainment/2013/04/florida-djs-april-fools-water-joke/63798/', '2', '1', 'vezycash', '6/23/2016 22:20'], ['11919867', 'Technology ventures: From Idea to Enterprise', 'https://www.amazon.com/Technology-Ventures-Enterprise-Thomas-Byers/dp/0073523429', '3', '1', 'hswarna', '6/17/2016 0:01']]\n",
      "[['id', 'title', 'url', 'num_points', 'num_comments', 'author', 'created_at'],\n",
      " ['12224879',\n",
      "  'Interactive Dynamic Video',\n",
      "  'http://www.interactivedynamicvideo.com/',\n",
      "  '386',\n",
      "  '52',\n",
      "  'ne0phyte',\n",
      "  '8/4/2016 11:52'],\n",
      " ['10975351',\n",
      "  'How to Use Open Source and Shut the Fuck Up at the Same Time',\n",
      "  'http://hueniverse.com/2016/01/26/how-to-use-open-source-and-shut-the-fuck-up-at-the-same-time/',\n",
      "  '39',\n",
      "  '10',\n",
      "  'josep2',\n",
      "  '1/26/2016 19:30'],\n",
      " ['11964716',\n",
      "  \"Florida DJs May Face Felony for April Fools' Water Joke\",\n",
      "  'http://www.thewire.com/entertainment/2013/04/florida-djs-april-fools-water-joke/63798/',\n",
      "  '2',\n",
      "  '1',\n",
      "  'vezycash',\n",
      "  '6/23/2016 22:20'],\n",
      " ['11919867',\n",
      "  'Technology ventures: From Idea to Enterprise',\n",
      "  'https://www.amazon.com/Technology-Ventures-Enterprise-Thomas-Byers/dp/0073523429',\n",
      "  '3',\n",
      "  '1',\n",
      "  'hswarna',\n",
      "  '6/17/2016 0:01']]\n"
     ]
    }
   ],
   "source": [
    "from csv import reader\n",
    "open_file = open('hacker_news.csv')\n",
    "reader = reader(open_file)\n",
    "hn = list(reader)\n",
    "import pprint\n",
    "print(hn[:5])\n",
    "pprint.pprint(hn[:5])"
   ]
  },
  {
   "cell_type": "markdown",
   "metadata": {},
   "source": [
    "* Extract the first row of data, and assign it to the variable headers.\n",
    "* Remove the first row from hn.\n",
    "* Display headers.\n",
    "* Display the first five rows of hn to verify that you removed the header row properly.\n"
   ]
  },
  {
   "cell_type": "code",
   "execution_count": 2,
   "metadata": {},
   "outputs": [
    {
     "name": "stdout",
     "output_type": "stream",
     "text": [
      "Headers: [['id', 'title', 'url', 'num_points', 'num_comments', 'author', 'created_at']]\n",
      "Table: [['12224879', 'Interactive Dynamic Video', 'http://www.interactivedynamicvideo.com/', '386', '52', 'ne0phyte', '8/4/2016 11:52'], ['10975351', 'How to Use Open Source and Shut the Fuck Up at the Same Time', 'http://hueniverse.com/2016/01/26/how-to-use-open-source-and-shut-the-fuck-up-at-the-same-time/', '39', '10', 'josep2', '1/26/2016 19:30'], ['11964716', \"Florida DJs May Face Felony for April Fools' Water Joke\", 'http://www.thewire.com/entertainment/2013/04/florida-djs-april-fools-water-joke/63798/', '2', '1', 'vezycash', '6/23/2016 22:20'], ['11919867', 'Technology ventures: From Idea to Enterprise', 'https://www.amazon.com/Technology-Ventures-Enterprise-Thomas-Byers/dp/0073523429', '3', '1', 'hswarna', '6/17/2016 0:01'], ['10301696', 'Note by Note: The Making of Steinway L1037 (2007)', 'http://www.nytimes.com/2007/11/07/movies/07stein.html?_r=0', '8', '2', 'walterbell', '9/30/2015 4:12']]\n"
     ]
    }
   ],
   "source": [
    "headers = hn[:1]\n",
    "hn = hn[1:]\n",
    "print(\"Headers:\", headers)\n",
    "print(\"Table:\", hn[:5])"
   ]
  },
  {
   "cell_type": "markdown",
   "metadata": {},
   "source": [
    "* Create three empty lists called ask_posts, show_posts, and other_posts.\n",
    "* Loop through each row in hn.\n",
    "    * Assign the title in each row to a variable named title.\n",
    "        * Because the title column is the second column, you'll need to get the element at index 1 in each row.\n",
    "\n",
    "* Implement the following steps:\n",
    "    * If the lowercase version of title starts with ask hn, append the row to ask_posts.\n",
    "    * Else if the lowercase version of title starts with show hn, append the row to show_posts.\n",
    "    * Else append to other_posts.\n",
    "\n",
    "* Check the number of posts in ask_posts, show_posts, and other_posts."
   ]
  },
  {
   "cell_type": "code",
   "execution_count": 3,
   "metadata": {},
   "outputs": [
    {
     "name": "stdout",
     "output_type": "stream",
     "text": [
      "1744\n",
      "1162\n",
      "17194\n"
     ]
    }
   ],
   "source": [
    "ask_posts = []\n",
    "show_posts = []\n",
    "other_posts = []\n",
    "\n",
    "for row in hn:\n",
    "    title = row[1]\n",
    "    if title.lower().startswith('ask hn'):\n",
    "        ask_posts.append(row)\n",
    "    elif title.lower().startswith('show hn'):\n",
    "        show_posts.append(row)\n",
    "    else:\n",
    "        other_posts.append(row)\n",
    "print(len(ask_posts))\n",
    "print(len(show_posts))\n",
    "print(len(other_posts))"
   ]
  },
  {
   "cell_type": "code",
   "execution_count": 4,
   "metadata": {},
   "outputs": [
    {
     "name": "stdout",
     "output_type": "stream",
     "text": [
      "[['12296411', 'Ask HN: How to improve my personal website?', '', '2', '6', 'ahmedbaracat', '8/16/2016 9:55'], ['10610020', 'Ask HN: Am I the only one outraged by Twitter shutting down share counts?', '', '28', '29', 'tkfx', '11/22/2015 13:43'], ['11610310', 'Ask HN: Aby recent changes to CSS that broke mobile?', '', '1', '1', 'polskibus', '5/2/2016 10:14'], ['12210105', 'Ask HN: Looking for Employee #3 How do I do it?', '', '1', '3', 'sph130', '8/2/2016 14:20'], ['10394168', 'Ask HN: Someone offered to buy my browser extension from me. What now?', '', '28', '17', 'roykolak', '10/15/2015 16:38']]\n"
     ]
    }
   ],
   "source": [
    "print(ask_posts[:5])"
   ]
  },
  {
   "cell_type": "code",
   "execution_count": 5,
   "metadata": {},
   "outputs": [
    {
     "name": "stdout",
     "output_type": "stream",
     "text": [
      "[['10627194', 'Show HN: Wio Link  ESP8266 Based Web of Things Hardware Development Platform', 'https://iot.seeed.cc', '26', '22', 'kfihihc', '11/25/2015 14:03'], ['10646440', 'Show HN: Something pointless I made', 'http://dn.ht/picklecat/', '747', '102', 'dhotson', '11/29/2015 22:46'], ['11590768', 'Show HN: Shanhu.io, a programming playground powered by e8vm', 'https://shanhu.io', '1', '1', 'h8liu', '4/28/2016 18:05'], ['12178806', 'Show HN: Webscope  Easy way for web developers to communicate with Clients', 'http://webscopeapp.com', '3', '3', 'fastbrick', '7/28/2016 7:11'], ['10872799', 'Show HN: GeoScreenshot  Easily test Geo-IP based web pages', 'https://www.geoscreenshot.com/', '1', '9', 'kpsychwave', '1/9/2016 20:45']]\n"
     ]
    }
   ],
   "source": [
    "print(show_posts[:5])"
   ]
  },
  {
   "cell_type": "markdown",
   "metadata": {},
   "source": [
    "Next, let's determine if ask posts or show posts receive more comments on average.\n",
    "\n",
    "* Find the total number of comments in ask posts and assign it to total_ask_comments.\n",
    "    * Set total_ask_comments to 0.\n",
    "* Use a for loop to iterate over the ask posts.\n",
    "    * Because the num_comments column is the fifth column in ask_posts, you'll need to get the element at index 4 in each row.\n",
    "        * You'll also need to convert the value to an integer so that we can calculate the sum of all the comments.\n",
    "        * Add this value to total_ask_comments.\n",
    "* Compute the average number of comments on ask posts and assign it to avg_ask_comments.\n",
    "* Print avg_ask_comments.\n",
    "* Find the total number of comments in show posts and assign it to total_show_comments.\n",
    "    * Set total_show_comments to 0.\n",
    "* Use a for loop to iterate over the show posts.\n",
    "    * Because the num_comments column is the fifth column in show_posts, you'll need to get the element at index 4 in each row.\n",
    "        * You'll also need to convert the value to an integer so that we can calculate the sum of all the comments.\n",
    "        * Add this value to total_show_comments.\n",
    "* Compute the average number of comments on show posts and assign it to avg_show_comments.\n",
    "* Print avg_show_comments.\n",
    "* Do show posts or ask posts receive more comments on average? Write a markdown cell explaining your findings."
   ]
  },
  {
   "cell_type": "code",
   "execution_count": 6,
   "metadata": {},
   "outputs": [
    {
     "name": "stdout",
     "output_type": "stream",
     "text": [
      "14.038417431192661\n"
     ]
    }
   ],
   "source": [
    "total_ask_comments = 0\n",
    "for row in ask_posts:\n",
    "    num_comments = int(row[4])\n",
    "    total_ask_comments += num_comments\n",
    "avg_ask_comments = total_ask_comments / len(ask_posts)\n",
    "print(avg_ask_comments)"
   ]
  },
  {
   "cell_type": "code",
   "execution_count": 7,
   "metadata": {},
   "outputs": [
    {
     "name": "stdout",
     "output_type": "stream",
     "text": [
      "10.31669535283993\n"
     ]
    }
   ],
   "source": [
    "total_show_comments = 0\n",
    "for row in show_posts:\n",
    "    num_comments = int(row[4])\n",
    "    total_show_comments += num_comments\n",
    "avg_show_comments = total_show_comments / len(show_posts)\n",
    "print(avg_show_comments)"
   ]
  },
  {
   "cell_type": "markdown",
   "metadata": {},
   "source": [
    "## Findings:\n",
    "Average comments number for ask posts is 14.038417431192661.\n",
    "\n",
    "Average comments number for show posts is 10.31669535283993.\n",
    "\n",
    "Ask posts has more comments in average than show posts."
   ]
  },
  {
   "cell_type": "markdown",
   "metadata": {},
   "source": [
    "* Import the datetime module as dt.\n",
    "* Create an empty list and assign it to result_list. This will be a list of lists.\n",
    "* Iterate over ask_posts and append to result_list a list with two elements:\n",
    "    * The first element shall be the column created_at.\n",
    "        * Because the created_at column is the seventh column in ask_posts, you'll need to get the element at index 6 in each row.\n",
    "    * The second element shall be the number of comments of the post.\n",
    "        * You'll also need to convert the value to an integer.\n",
    "* Create two empty dictionaries called counts_by_hour and comments_by_hour.\n",
    "* Loop through each row of result_list.\n",
    "* Extract the hour from the date, which is the first element of the row.\n",
    "* Use the datetime.strptime() method to parse the date and create a datetime object.\n",
    "* Use the string we want to parse as the first argument and a string that specifies the format as the second argument.\n",
    "    * Use the datetime.strftime() method to select just the hour from the datetime object.\n",
    "    * If the hour isn't a key in counts_by_hour:\n",
    "        * Create the key in counts_by_hour and set it equal to 1.\n",
    "        * Create the key in comments_by_hour and set it equal to the comment number.\n",
    "    * If the hour is already a key in counts_by_hour:\n",
    "        * Increment the value in counts_by_hour by 1.\n",
    "        * Increment the value in comments_by_hour by the comment number."
   ]
  },
  {
   "cell_type": "code",
   "execution_count": 8,
   "metadata": {},
   "outputs": [
    {
     "name": "stdout",
     "output_type": "stream",
     "text": [
      "Counts by hour: {'12': 73, '23': 68, '06': 44, '20': 80, '11': 58, '14': 107, '17': 100, '03': 54, '00': 55, '21': 109, '04': 47, '15': 116, '16': 108, '19': 110, '10': 59, '07': 34, '09': 45, '13': 85, '01': 60, '02': 58, '18': 109, '08': 48, '22': 71, '05': 46}\n",
      "Comments by hour {'12': 687, '23': 543, '06': 397, '20': 1722, '11': 641, '14': 1416, '17': 1146, '03': 421, '00': 447, '21': 1745, '04': 337, '15': 4477, '16': 1814, '19': 1188, '10': 793, '07': 267, '09': 251, '13': 1253, '01': 683, '02': 1381, '18': 1439, '08': 492, '22': 479, '05': 464}\n",
      "{'00': 55,\n",
      " '01': 60,\n",
      " '02': 58,\n",
      " '03': 54,\n",
      " '04': 47,\n",
      " '05': 46,\n",
      " '06': 44,\n",
      " '07': 34,\n",
      " '08': 48,\n",
      " '09': 45,\n",
      " '10': 59,\n",
      " '11': 58,\n",
      " '12': 73,\n",
      " '13': 85,\n",
      " '14': 107,\n",
      " '15': 116,\n",
      " '16': 108,\n",
      " '17': 100,\n",
      " '18': 109,\n",
      " '19': 110,\n",
      " '20': 80,\n",
      " '21': 109,\n",
      " '22': 71,\n",
      " '23': 68}\n"
     ]
    }
   ],
   "source": [
    "import datetime as dt\n",
    "result_list = []\n",
    "\n",
    "for row in ask_posts:\n",
    "    created_at = row[6]\n",
    "    n_comments = int(row[4])\n",
    "    result_list.append([created_at, n_comments])\n",
    "\n",
    "counts_by_hour = {}\n",
    "comments_by_hour = {}\n",
    "date_format = \"%m/%d/%Y %H:%M\"\n",
    "\n",
    "for row in result_list:\n",
    "    created_at = row[0]\n",
    "    created_date = dt.datetime.strptime(created_at, date_format)\n",
    "    hour = created_date.strftime(\"%H\")\n",
    "    if hour not in counts_by_hour:\n",
    "        counts_by_hour[hour] = 1\n",
    "        comments_by_hour[hour] = int(row[1])\n",
    "    else:\n",
    "        counts_by_hour[hour] += 1\n",
    "        comments_by_hour[hour] += int(row[1])\n",
    "    \n",
    "print(\"Counts by hour:\", counts_by_hour)\n",
    "print(\"Comments by hour\", comments_by_hour)\n",
    "pprint.pprint(counts_by_hour)"
   ]
  },
  {
   "cell_type": "markdown",
   "metadata": {},
   "source": [
    "* Use the example above to calculate the average number of comments per post for posts created during each hour of the day.\n",
    "* The result should be a list of lists in which the first element is the hour and the second element is the average number of comments per post. Assign the result to a variable named avg_by_hour. Display the results."
   ]
  },
  {
   "cell_type": "code",
   "execution_count": 9,
   "metadata": {},
   "outputs": [
    {
     "name": "stdout",
     "output_type": "stream",
     "text": [
      "[['12', 9.41095890410959], ['23', 7.985294117647059], ['06', 9.022727272727273], ['20', 21.525], ['11', 11.051724137931034], ['14', 13.233644859813085], ['17', 11.46], ['03', 7.796296296296297], ['00', 8.127272727272727], ['21', 16.009174311926607], ['04', 7.170212765957447], ['15', 38.5948275862069], ['16', 16.796296296296298], ['19', 10.8], ['10', 13.440677966101696], ['07', 7.852941176470588], ['09', 5.5777777777777775], ['13', 14.741176470588234], ['01', 11.383333333333333], ['02', 23.810344827586206], ['18', 13.20183486238532], ['08', 10.25], ['22', 6.746478873239437], ['05', 10.08695652173913]]\n"
     ]
    }
   ],
   "source": [
    "avg_by_hour = []\n",
    "for hour in counts_by_hour:\n",
    "    avg = comments_by_hour[hour] / counts_by_hour[hour]\n",
    "    avg_by_hour.append([hour, avg])\n",
    "print(avg_by_hour)"
   ]
  },
  {
   "cell_type": "markdown",
   "metadata": {},
   "source": [
    "* Create a list that equals avg_by_hour with swapped columns.\n",
    "    * Create an empty list and assign it to swap_avg_by_hour.\n",
    "    * Iterate over the rows of avg_by_hour and append to swap_avg_by_hour a list whose first element is the second element of the row, and whose second element is the first element of the row.\n",
    "* Print swap_avg_by_hour.\n",
    "* Use the sorted() function to sort swap_avg_by_hour in descending order. Since the first column of this list is the average number of comments, sorting the list will sort by the average number of comments.\n",
    "    * Set the reverse argument to True, so that the highest value in the first column appears first in the list.\n",
    "    * Assign the result to sorted_swap.\n",
    "* Print the string \"Top 5 Hours for Ask Posts Comments\".\n",
    "* Loop through each average and each hour (in this order) in the first five lists of sorted_swap.\n",
    "* Use the str.format() method to print the hour and average in the following format: 15:00: 38.59 average comments per post.\n",
    "    * To format the hours, use the datetime.strptime() constructor to return a datetime object and then use the strftime() method to specify the format of the time.\n",
    "    * To format the average, you can use {:.2f} to indicate that just two decimal places should be used.\n",
    "* Which hours should you create a post during to have a higher chance of receiving comments? Refer back to the documentation for the data set to convert the times to the time zone you live in. Write a markdown cell explaining your findings."
   ]
  },
  {
   "cell_type": "code",
   "execution_count": 10,
   "metadata": {},
   "outputs": [
    {
     "name": "stdout",
     "output_type": "stream",
     "text": [
      "[[9.41095890410959, '12'], [7.985294117647059, '23'], [9.022727272727273, '06'], [21.525, '20'], [11.051724137931034, '11'], [13.233644859813085, '14'], [11.46, '17'], [7.796296296296297, '03'], [8.127272727272727, '00'], [16.009174311926607, '21'], [7.170212765957447, '04'], [38.5948275862069, '15'], [16.796296296296298, '16'], [10.8, '19'], [13.440677966101696, '10'], [7.852941176470588, '07'], [5.5777777777777775, '09'], [14.741176470588234, '13'], [11.383333333333333, '01'], [23.810344827586206, '02'], [13.20183486238532, '18'], [10.25, '08'], [6.746478873239437, '22'], [10.08695652173913, '05']]\n",
      "Sorted swap: [[38.5948275862069, '15'], [23.810344827586206, '02'], [21.525, '20'], [16.796296296296298, '16'], [16.009174311926607, '21']]\n"
     ]
    }
   ],
   "source": [
    "swap_avg_by_hour = []\n",
    "for row in avg_by_hour:\n",
    "    swap_avg_by_hour.append([row[1], row[0]])\n",
    "print(swap_avg_by_hour)\n",
    "sorted_swap = sorted(swap_avg_by_hour, reverse = True)\n",
    "print(\"Sorted swap:\", sorted_swap[:5])"
   ]
  },
  {
   "cell_type": "code",
   "execution_count": 11,
   "metadata": {},
   "outputs": [
    {
     "name": "stdout",
     "output_type": "stream",
     "text": [
      "Top 5 Hours for Ask Posts Comments\n",
      "15:00:  38.59 average comments per post\n",
      "02:00:  23.81 average comments per post\n",
      "20:00:  21.52 average comments per post\n",
      "16:00:  16.80 average comments per post\n",
      "21:00:  16.01 average comments per post\n"
     ]
    }
   ],
   "source": [
    "print(\"Top 5 Hours for Ask Posts Comments\") #4\n",
    "for row in sorted_swap[:5]: #5\n",
    "    hour = row[1]\n",
    "    avg = float(row[0])\n",
    "    hour_dt = dt.datetime.strptime(hour, \"%H\")\n",
    "    clean_hour = hour_dt.strftime(\"%H:%M\")\n",
    "    clean_avg = \"{:.2f}\".format(avg)\n",
    "    print(clean_hour+\": \", clean_avg, \"average comments per post\")"
   ]
  },
  {
   "cell_type": "markdown",
   "metadata": {},
   "source": [
    "* Which hours should you create a post during to have a higher chance of receiving comments? Refer back to the documentation for the data set to convert the times to the time zone you live in. Write a markdown cell explaining your findings."
   ]
  },
  {
   "cell_type": "code",
   "execution_count": 12,
   "metadata": {},
   "outputs": [
    {
     "name": "stdout",
     "output_type": "stream",
     "text": [
      "21:00:  38.59 average comments per post\n",
      "08:00:  23.81 average comments per post\n",
      "02:00:  21.52 average comments per post\n",
      "22:00:  16.80 average comments per post\n",
      "03:00:  16.01 average comments per post\n"
     ]
    }
   ],
   "source": [
    "for row in sorted_swap[:5]:\n",
    "    hour = row[1]\n",
    "    hour_dt = dt.datetime.strptime(hour, \"%H\")\n",
    "    spain_hour = hour_dt + dt.timedelta(hours = 6)\n",
    "    clean_hour = spain_hour.strftime(\"%H:%M\")\n",
    "    avg = float(row[0])\n",
    "    clean_avg = \"{:.2f}\".format(avg)\n",
    "    print(clean_hour+\": \", clean_avg, \"average comments per post\")"
   ]
  },
  {
   "cell_type": "markdown",
   "metadata": {},
   "source": [
    "**Findings**: Hours outside working hours (at night or early in the morning) are the ones with the most comments."
   ]
  },
  {
   "cell_type": "code",
   "execution_count": null,
   "metadata": {},
   "outputs": [],
   "source": []
  }
 ],
 "metadata": {
  "kernelspec": {
   "display_name": "Python 3",
   "language": "python",
   "name": "python3"
  },
  "language_info": {
   "codemirror_mode": {
    "name": "ipython",
    "version": 3
   },
   "file_extension": ".py",
   "mimetype": "text/x-python",
   "name": "python",
   "nbconvert_exporter": "python",
   "pygments_lexer": "ipython3",
   "version": "3.7.4"
  }
 },
 "nbformat": 4,
 "nbformat_minor": 2
}
