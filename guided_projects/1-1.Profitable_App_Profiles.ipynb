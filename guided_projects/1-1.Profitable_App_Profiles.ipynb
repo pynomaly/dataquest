{
 "cells": [
  {
   "cell_type": "markdown",
   "metadata": {},
   "source": [
    "# Guided project\n",
    "\n",
    "<p> Our main source of revenue consists of in-app ads. This means our revenue for any given app is mostly influenced by the number of users who use our app — the more users that see and engage with the ads, the better.</p>\n",
    "<p> Our goal for this project is to analyze data to help our developers understand what type of apps are likely to attract more users.</p>"
   ]
  },
  {
   "cell_type": "code",
   "execution_count": 1,
   "metadata": {
    "collapsed": true
   },
   "outputs": [],
   "source": [
    "Apple_file = open('AppleStore.csv', encoding=\"utf-8\")\n",
    "from csv import reader\n",
    "read_file = reader(Apple_file)\n",
    "AppleStore = list(read_file)"
   ]
  },
  {
   "cell_type": "code",
   "execution_count": 2,
   "metadata": {
    "collapsed": true
   },
   "outputs": [],
   "source": [
    "Google_file = open('googleplaystore.csv', encoding=\"utf-8\")\n",
    "from csv import reader\n",
    "read_file = reader(Google_file)\n",
    "GooglePlay = list(read_file)"
   ]
  },
  {
   "cell_type": "code",
   "execution_count": 3,
   "metadata": {
    "collapsed": true
   },
   "outputs": [],
   "source": [
    "def explore_data(dataset, start, end, rows_and_columns=False):\n",
    "    dataset_slice = dataset[start:end]    \n",
    "    for row in dataset_slice:\n",
    "        print(row)\n",
    "        print('\\n') # adds a new (empty) line after each row\n",
    "\n",
    "    if rows_and_columns:\n",
    "        print('Number of rows:', len(dataset))\n",
    "        print('Number of columns:', len(dataset[0]))"
   ]
  },
  {
   "cell_type": "code",
   "execution_count": 33,
   "metadata": {
    "collapsed": false
   },
   "outputs": [
    {
     "name": "stdout",
     "output_type": "stream",
     "text": [
      "['id', 'track_name', 'size_bytes', 'currency', 'price', 'rating_count_tot', 'rating_count_ver', 'user_rating', 'user_rating_ver', 'ver', 'cont_rating', 'prime_genre', 'sup_devices.num', 'ipadSc_urls.num', 'lang.num', 'vpp_lic']\n",
      "\n",
      "\n",
      "['284882215', 'Facebook', '389879808', 'USD', '0.0', '2974676', '212', '3.5', '3.5', '95.0', '4+', 'Social Networking', '37', '1', '29', '1']\n",
      "\n",
      "\n",
      "['389801252', 'Instagram', '113954816', 'USD', '0.0', '2161558', '1289', '4.5', '4.0', '10.23', '12+', 'Photo & Video', '37', '0', '29', '1']\n",
      "\n",
      "\n",
      "['529479190', 'Clash of Clans', '116476928', 'USD', '0.0', '2130805', '579', '4.5', '4.5', '9.24.12', '9+', 'Games', '38', '5', '18', '1']\n",
      "\n",
      "\n",
      "['420009108', 'Temple Run', '65921024', 'USD', '0.0', '1724546', '3842', '4.5', '4.0', '1.6.2', '9+', 'Games', '40', '5', '1', '1']\n",
      "\n",
      "\n",
      "Number of rows: 7198\n",
      "Number of columns: 16\n"
     ]
    }
   ],
   "source": [
    "explore_data(AppleStore, 0, 5, True)"
   ]
  },
  {
   "cell_type": "code",
   "execution_count": 5,
   "metadata": {
    "collapsed": false
   },
   "outputs": [
    {
     "name": "stdout",
     "output_type": "stream",
     "text": [
      "['App', 'Category', 'Rating', 'Reviews', 'Size', 'Installs', 'Type', 'Price', 'Content Rating', 'Genres', 'Last Updated', 'Current Ver', 'Android Ver']\n",
      "\n",
      "\n",
      "['Photo Editor & Candy Camera & Grid & ScrapBook', 'ART_AND_DESIGN', '4.1', '159', '19M', '10,000+', 'Free', '0', 'Everyone', 'Art & Design', 'January 7, 2018', '1.0.0', '4.0.3 and up']\n",
      "\n",
      "\n",
      "['Coloring book moana', 'ART_AND_DESIGN', '3.9', '967', '14M', '500,000+', 'Free', '0', 'Everyone', 'Art & Design;Pretend Play', 'January 15, 2018', '2.0.0', '4.0.3 and up']\n",
      "\n",
      "\n",
      "['U Launcher Lite – FREE Live Cool Themes, Hide Apps', 'ART_AND_DESIGN', '4.7', '87510', '8.7M', '5,000,000+', 'Free', '0', 'Everyone', 'Art & Design', 'August 1, 2018', '1.2.4', '4.0.3 and up']\n",
      "\n",
      "\n",
      "['Sketch - Draw & Paint', 'ART_AND_DESIGN', '4.5', '215644', '25M', '50,000,000+', 'Free', '0', 'Teen', 'Art & Design', 'June 8, 2018', 'Varies with device', '4.2 and up']\n",
      "\n",
      "\n"
     ]
    }
   ],
   "source": [
    "explore_data(GooglePlay, 0, 5)"
   ]
  },
  {
   "cell_type": "code",
   "execution_count": 6,
   "metadata": {
    "collapsed": false
   },
   "outputs": [
    {
     "name": "stdout",
     "output_type": "stream",
     "text": [
      "7197\n",
      "16\n"
     ]
    }
   ],
   "source": [
    "print(len(AppleStore[1:]))\n",
    "print(len(AppleStore[0]))"
   ]
  },
  {
   "cell_type": "code",
   "execution_count": 7,
   "metadata": {
    "collapsed": false
   },
   "outputs": [
    {
     "name": "stdout",
     "output_type": "stream",
     "text": [
      "10841\n",
      "13\n"
     ]
    }
   ],
   "source": [
    "print(len(GooglePlay[1:]))\n",
    "print(len(GooglePlay[0]))"
   ]
  },
  {
   "cell_type": "markdown",
   "metadata": {},
   "source": [
    "# appleStore.csv\n",
    "<p>Source: [Mobile App Store](https://www.kaggle.com/ramamet4/app-store-apple-data-set-10k-apps/home)</p>\n",
    "\n",
    "|Category| Meaning |\n",
    "|---|---|\n",
    "|\"id\" | App ID|\n",
    "|\"track_name\"| App Name|\n",
    "|\"size_bytes\"| Size (in Bytes)|\n",
    "|\"currency\"| Currency Type|\n",
    "|\"price\"| Price amount|\n",
    "|    \"rating_count_tot\"| User Rating counts (for all version)|\n",
    "|    \"rating_count_ver\"| User Rating counts (for current version)|\n",
    "|    \"user_rating\" | Average User Rating value (for all version)|\n",
    "|    \"user_rating_ver\"| Average User Rating value (for current version)|\n",
    "|    \"ver\" | Latest version code|\n",
    "|    \"cont_rating\"| Content Rating|\n",
    "|    \"prime_genre\"| Primary Genre|\n",
    "|    \"sup_devices.num\"| Number of supporting devices|\n",
    "|    \"ipadSc_urls.num\"| Number of screenshots showed for display|\n",
    "|    \"lang.num\"| Number of supported languages|\n",
    "|    \"vpp_lic\"| Vpp Device Based Licensing Enabled|"
   ]
  },
  {
   "cell_type": "markdown",
   "metadata": {},
   "source": [
    "# googleplay.csv\n",
    "<p>Source: [Google App Store](https://www.kaggle.com/lava18/google-play-store-apps/home#googleplaystore.csv)</p>\n",
    "\n",
    "|Category|Meaning|\n",
    "|---|---|\n",
    "|App|Application name|\n",
    "|Category|Category the app belongs to|\n",
    "|Rating|Overall user rating of the app (as when scraped)|\n",
    "|Reviews|Number of user reviews for the app (as when scraped)|\n",
    "|Size|Size of the app (as when scraped)|\n",
    "|Installs|Number of user downloads/installs for the app (as when scraped)|\n",
    "|Type|Paid or Free|\n",
    "|Price|Price of the app (as when scraped)|\n",
    "|Content Rating|Age group the app is targeted at - Children / Mature 21+ / Adult|\n",
    "|Genres|An app can belong to multiple genres (apart from its main category). For eg, a musical family game will belong to Music, Game, Family genres.|\n",
    "|Last Updated|Date when the app was last updated on Play Store (as when scraped)|\n",
    "|Current Ver|Current version of the app available on Play Store (as when scraped)|\n",
    "|Android Ver|Min required Android version (as when scraped)"
   ]
  },
  {
   "cell_type": "markdown",
   "metadata": {},
   "source": [
    "Localizada la línea con un error registrada en el foro de discusión, comprobamos que sigue ahí. Sacamos la cabecera, la línea errónea y una línea correcta para poder revisarlas:"
   ]
  },
  {
   "cell_type": "code",
   "execution_count": 8,
   "metadata": {
    "collapsed": false
   },
   "outputs": [
    {
     "name": "stdout",
     "output_type": "stream",
     "text": [
      "['App', 'Category', 'Rating', 'Reviews', 'Size', 'Installs', 'Type', 'Price', 'Content Rating', 'Genres', 'Last Updated', 'Current Ver', 'Android Ver']\n",
      "\n",
      "\n",
      "['Life Made WI-Fi Touchscreen Photo Frame', '1.9', '19', '3.0M', '1,000+', 'Free', '0', 'Everyone', '', 'February 11, 2018', '1.0.19', '4.0 and up']\n",
      "\n",
      "\n",
      "['Photo Editor & Candy Camera & Grid & ScrapBook', 'ART_AND_DESIGN', '4.1', '159', '19M', '10,000+', 'Free', '0', 'Everyone', 'Art & Design', 'January 7, 2018', '1.0.0', '4.0.3 and up']\n"
     ]
    }
   ],
   "source": [
    "print(GooglePlay[0]) #header\n",
    "print('\\n')\n",
    "print(GooglePlay[10473]) #incorrect row\n",
    "print('\\n')\n",
    "print(GooglePlay[1]) # correct row"
   ]
  },
  {
   "cell_type": "markdown",
   "metadata": {},
   "source": [
    "Comprobación de la longitud de la lista antes de la eliminación de la línea 10473 y después de su eliminación."
   ]
  },
  {
   "cell_type": "code",
   "execution_count": 9,
   "metadata": {
    "collapsed": false
   },
   "outputs": [
    {
     "name": "stdout",
     "output_type": "stream",
     "text": [
      "10842\n",
      "10841\n"
     ]
    }
   ],
   "source": [
    "print(len(GooglePlay))\n",
    "del GooglePlay[10473]\n",
    "print(len(GooglePlay))"
   ]
  },
  {
   "cell_type": "markdown",
   "metadata": {},
   "source": [
    "# Duplicated values in googleplay.csv\n",
    "<p> Some apps have duplicated entries. We look for how many cases do we have.</p>\n",
    "* Creamos dos listas, uno para los nombres de aplicaciones que aparecen una sola vez y la otra para las que aparecen más de una vez.\n",
    "* Bucle for por cada registro en la lista. El nombre está localizado en la celda con índice 0. La metemos en una variable llamada \"name\".\n",
    "* Si el nombre ya está en la lista de unique_apps, se añade a la de duplicate_apps. Si no está, se añade a la de unique_apps, utilizando .append(name)\n",
    "* Imprimimos el número de apps en la lista duplicate_apps\n",
    "* Imprimimos una muestra de duplicate_apps"
   ]
  },
  {
   "cell_type": "code",
   "execution_count": 10,
   "metadata": {
    "collapsed": false
   },
   "outputs": [
    {
     "name": "stdout",
     "output_type": "stream",
     "text": [
      "Number or duplicate apps: 1181\n",
      "\n",
      "\n",
      "Examples of duplicate apps: \n",
      " ['Quick PDF Scanner + OCR FREE', 'Box', 'Google My Business', 'ZOOM Cloud Meetings', 'join.me - Simple Meetings', 'Box', 'Zenefits', 'Google Ads', 'Google My Business', 'Slack', 'FreshBooks Classic', 'Insightly CRM', 'QuickBooks Accounting: Invoicing & Expenses', 'HipChat - Chat Built for Teams', 'Xero Accounting Software']\n"
     ]
    }
   ],
   "source": [
    "duplicate_apps = []\n",
    "unique_apps = []\n",
    "\n",
    "for app in GooglePlay:\n",
    "    name = app[0]\n",
    "    if name in unique_apps:\n",
    "        duplicate_apps.append(name)\n",
    "    else:\n",
    "        unique_apps.append(name)\n",
    "print('Number or duplicate apps:', len(duplicate_apps))\n",
    "print('\\n')\n",
    "print('Examples of duplicate apps:','\\n', duplicate_apps[:15])"
   ]
  },
  {
   "cell_type": "markdown",
   "metadata": {},
   "source": [
    "En el caso de los registros duplicados, eliminamos las líneas sobrantes para dejar un único registro por app. Como las líneas solo difieren en el número de reviews, el registro que mantenemos es el que más reviews tiene, al ser el más actulizado. Aquí un ejemplo:"
   ]
  },
  {
   "cell_type": "code",
   "execution_count": 11,
   "metadata": {
    "collapsed": false,
    "scrolled": true
   },
   "outputs": [
    {
     "name": "stdout",
     "output_type": "stream",
     "text": [
      "['Facebook', 'SOCIAL', '4.1', '78158306', 'Varies with device', '1,000,000,000+', 'Free', '0', 'Teen', 'Social', 'August 3, 2018', 'Varies with device', 'Varies with device']\n",
      "['Facebook', 'SOCIAL', '4.1', '78128208', 'Varies with device', '1,000,000,000+', 'Free', '0', 'Teen', 'Social', 'August 3, 2018', 'Varies with device', 'Varies with device']\n"
     ]
    }
   ],
   "source": [
    "for app in GooglePlay:\n",
    "    name = app[0]\n",
    "    if name == 'Facebook':\n",
    "        print(app)"
   ]
  },
  {
   "cell_type": "markdown",
   "metadata": {
    "collapsed": true
   },
   "source": [
    "Creamos un diccionario vacío donde metemos los nombres únicos de las aplicaciones y el número mayor de reviews para ese nombre de los que aparecen en la tabla:"
   ]
  },
  {
   "cell_type": "code",
   "execution_count": 12,
   "metadata": {
    "collapsed": true
   },
   "outputs": [],
   "source": [
    "reviews_max = {}\n",
    "for row in GooglePlay[1:]:\n",
    "    name = row[0]\n",
    "    n_reviews = float(row[3])\n",
    "    if name in reviews_max and reviews_max[name] < n_reviews:\n",
    "        reviews_max[name] = n_reviews\n",
    "    elif name not in reviews_max:\n",
    "        reviews_max[name] = n_reviews"
   ]
  },
  {
   "cell_type": "markdown",
   "metadata": {},
   "source": [
    "Comprobamos el nuevo diccionario creado de nombres y número de reviews tiene la longitud esperada: el número total de registros menos el número de registros duplicados, que ya habíamos visto que era de 1.181. El total del nuevo diccionario debe ser de 9.659."
   ]
  },
  {
   "cell_type": "code",
   "execution_count": 13,
   "metadata": {
    "collapsed": false
   },
   "outputs": [
    {
     "name": "stdout",
     "output_type": "stream",
     "text": [
      "Expected length: 9659\n",
      "Length GooglePlay dataset: 10840\n",
      "Length GooglePlay without duplicated values: 9659\n"
     ]
    }
   ],
   "source": [
    "expected_length = int(len(GooglePlay[1:])) - 1181\n",
    "print('Expected length:', expected_length)\n",
    "print('Length GooglePlay dataset:', len(GooglePlay[1:]))\n",
    "print('Length GooglePlay without duplicated values:', len(reviews_max))"
   ]
  },
  {
   "cell_type": "markdown",
   "metadata": {},
   "source": [
    "Ahora mismo tenemos un diccionario con nombre y número de review máxima, pero queremos el resto de las columnas de la tabla correspondientes a esos registros.\n",
    "Para ello: * Creamos una lista llamada android_clean que almacene las filas que coincidan en número máximo de reviews y nombre de la app. * Para asegurarnos que ninguna tenga un registro duplicado usamos otra lista llamada already_added, donde metemos el nombre de la aplicación cada vez que lo incluimos en la otra lista. Si el nombre ya está en esa lista no lo volverá a incluir."
   ]
  },
  {
   "cell_type": "code",
   "execution_count": 14,
   "metadata": {
    "collapsed": true
   },
   "outputs": [],
   "source": [
    "android_clean = []\n",
    "already_added = []\n",
    "for row in GooglePlay[1:]:\n",
    "    name = row[0]\n",
    "    n_reviews =float(row[3])\n",
    "    if (n_reviews == reviews_max[name]) and (name not in already_added):\n",
    "        android_clean.append(row)\n",
    "        already_added.append(name)"
   ]
  },
  {
   "cell_type": "markdown",
   "metadata": {},
   "source": [
    "Comprobación del número de filas y columnas de la nueva tabla sin los duplicados:"
   ]
  },
  {
   "cell_type": "code",
   "execution_count": 15,
   "metadata": {
    "collapsed": false
   },
   "outputs": [
    {
     "name": "stdout",
     "output_type": "stream",
     "text": [
      "Rows: 9659\n",
      "Columns: 13\n"
     ]
    }
   ],
   "source": [
    "print('Rows:', len(android_clean))\n",
    "print('Columns:', len(android_clean[0]))"
   ]
  },
  {
   "cell_type": "markdown",
   "metadata": {},
   "source": [
    "# Eliminación de registros que no están en inglés\n",
    "\n",
    "The numbers corresponding to the characters we commonly use in an English text are all in the range 0 to 127, according to the ASCII (American Standard Code for Information Interchange) system."
   ]
  },
  {
   "cell_type": "code",
   "execution_count": 16,
   "metadata": {
    "collapsed": true
   },
   "outputs": [],
   "source": [
    "def english(string):\n",
    "    for character in string:\n",
    "        if ord(character) > 127:\n",
    "            return False\n",
    "    return True"
   ]
  },
  {
   "cell_type": "code",
   "execution_count": 17,
   "metadata": {
    "collapsed": false
   },
   "outputs": [
    {
     "name": "stdout",
     "output_type": "stream",
     "text": [
      "True\n",
      "False\n",
      "False\n",
      "False\n"
     ]
    }
   ],
   "source": [
    "print(english('Instagram'))\n",
    "print(english('爱奇艺PPS -《欢乐颂2》电视剧热播'))\n",
    "print(english('Docs To Go™ Free Office Suite'))\n",
    "print(english('Instachat 😜'))"
   ]
  },
  {
   "cell_type": "markdown",
   "metadata": {},
   "source": [
    "La función english detecta como no inglés algunos de los nombres, por incluir emojis o caracteres que no están dentro de los 127 ASCII. Para evitar que lo haga añadimos otra condición: que los caracteres fuera de ASCII en una palabra sean más de 3.</p> \n",
    "Rehacemos la función creando una variable que funcionará como contador (non_ascii) y que por cada iteración en las letras de la palabra, si no es inglesa sumará 1 al contador. Al finalizar la iteración si el contador es mayor a 3 devolverá False. En el resto de casos devolverá True."
   ]
  },
  {
   "cell_type": "code",
   "execution_count": 18,
   "metadata": {
    "collapsed": true
   },
   "outputs": [],
   "source": [
    "def english(string):\n",
    "    non_ascii = 0\n",
    "    for character in string:\n",
    "        if ord(character) > 127:\n",
    "            non_ascii += 1\n",
    "    if non_ascii > 3:\n",
    "        return False\n",
    "    else:\n",
    "        return True"
   ]
  },
  {
   "cell_type": "code",
   "execution_count": 19,
   "metadata": {
    "collapsed": false
   },
   "outputs": [
    {
     "name": "stdout",
     "output_type": "stream",
     "text": [
      "True\n",
      "True\n",
      "False\n"
     ]
    }
   ],
   "source": [
    "print(english('Docs To Go™ Free Office Suite'))\n",
    "print(english('Instachat 😜'))\n",
    "print(english('爱奇艺PPS -《欢乐颂2》电视剧热播'))"
   ]
  },
  {
   "cell_type": "markdown",
   "metadata": {},
   "source": [
    "Usamos la nueva función para limpiar las dos bases de datos, haciendo un loop, si una línea está en inglés, se añade a otra lista separada limpia."
   ]
  },
  {
   "cell_type": "code",
   "execution_count": 20,
   "metadata": {
    "collapsed": true
   },
   "outputs": [],
   "source": [
    "android_english = []\n",
    "for row in android_clean:\n",
    "    name = row[0]\n",
    "    if english(name):\n",
    "        android_english.append(row)"
   ]
  },
  {
   "cell_type": "code",
   "execution_count": 21,
   "metadata": {
    "collapsed": true
   },
   "outputs": [],
   "source": [
    "ios_english = []\n",
    "for row in AppleStore:\n",
    "    name = row[0]\n",
    "    if english(name):\n",
    "        ios_english.append(row)"
   ]
  },
  {
   "cell_type": "code",
   "execution_count": 22,
   "metadata": {
    "collapsed": false
   },
   "outputs": [
    {
     "name": "stdout",
     "output_type": "stream",
     "text": [
      "Android: 9614\n",
      "IOS: 7198\n"
     ]
    }
   ],
   "source": [
    "print('Android:', len(android_english))\n",
    "print('IOS:', len(ios_english))"
   ]
  },
  {
   "cell_type": "markdown",
   "metadata": {},
   "source": [
    "# Extraemos las aplicaciones que son gratis\n",
    "\n",
    "Creamos una nueva lista donde se recojan las aplicaciones cuyo precio es igual a 0, que son las que nos interesan.\n"
   ]
  },
  {
   "cell_type": "code",
   "execution_count": 23,
   "metadata": {
    "collapsed": true
   },
   "outputs": [],
   "source": [
    "android_free = []\n",
    "ios_free = []\n",
    "\n",
    "for row in android_english:\n",
    "    price = row[7]\n",
    "    if price == '0':\n",
    "        android_free.append(row)\n",
    "\n",
    "for row in ios_english:\n",
    "    price = row[4]\n",
    "    if price == '0.0':\n",
    "        ios_free.append(row)"
   ]
  },
  {
   "cell_type": "code",
   "execution_count": 24,
   "metadata": {
    "collapsed": false
   },
   "outputs": [
    {
     "name": "stdout",
     "output_type": "stream",
     "text": [
      "Android: 8864\n",
      "IOS: 4056\n"
     ]
    }
   ],
   "source": [
    "print('Android:', len(android_free))\n",
    "print('IOS:', len(ios_free))"
   ]
  },
  {
   "cell_type": "markdown",
   "metadata": {},
   "source": [
    "# Analizando los datos\n",
    "\n",
    "Because our end goal is to add the app on both Google Play and the App Store, we need to find app profiles that are successful on both markets.\n",
    "\n",
    "Let's begin the analysis by getting a sense of what are the most common genres for each market.\n",
    "\n",
    "   * Inspeccionamos ambas tablas e identificamos las columnas que usaremos para generar las tablas de frecuencia de los géneros más comunes en cada mercado:\n",
    "\n",
    "prime_genre -> ios_free[11]</p>\n",
    "Genres y Category -> android_free[1] y android_free[9]\n",
    "\n",
    "    Creamos una función llamada freq_table con dos parámetros: el nombre de la base de datos y el índique de la columna que queremos utilizar para calcular la frecuencia.\n",
    "        creamos un diccionario vacío, donde metemos, por cada fila de la bbdd un contador que nos dará el número de cada elemento individual.\n",
    "        creamos un diccionario vacío para darle un valor a los elementos que se encuentran en el diccionaro anterior de ese número/total de líneas de la base de datos multiplicado por 100.\n",
    "\n"
   ]
  },
  {
   "cell_type": "code",
   "execution_count": 25,
   "metadata": {
    "collapsed": true
   },
   "outputs": [],
   "source": [
    "def freq_table(dataset, index):\n",
    "    frequency_table = {}\n",
    "    total = 0\n",
    "    for row in dataset:\n",
    "        total += 1\n",
    "        element = row[index]\n",
    "        if element in frequency_table:\n",
    "            frequency_table[element] += 1\n",
    "        else:\n",
    "            frequency_table[element] = 1\n",
    "\n",
    "    percentages_table = {}\n",
    "    for key in frequency_table:\n",
    "        percentage = (frequency_table[key] / total) * 100\n",
    "        percentages_table[key] = percentage\n",
    "    return percentages_table"
   ]
  },
  {
   "cell_type": "code",
   "execution_count": 47,
   "metadata": {
    "collapsed": false,
    "scrolled": false
   },
   "outputs": [
    {
     "name": "stdout",
     "output_type": "stream",
     "text": [
      "{'Music': 1.6518737672583828, 'Productivity': 1.5285996055226825, 'Reference': 0.4930966469428008, 'Navigation': 0.4930966469428008, 'Catalogs': 0.22189349112426035, 'Shopping': 2.983234714003945, 'Lifestyle': 2.3175542406311638, 'Health & Fitness': 1.8737672583826428, 'Business': 0.4930966469428008, 'Food & Drink': 1.0601577909270217, 'Photo & Video': 4.117357001972387, 'Social Networking': 3.5256410256410255, 'Weather': 0.7642998027613412, 'Education': 3.2544378698224854, 'Sports': 1.947731755424063, 'News': 1.4299802761341223, 'Finance': 2.0710059171597637, 'Medical': 0.19723865877712032, 'Entertainment': 8.234714003944774, 'Games': 55.64595660749507, 'Travel': 1.3806706114398422, 'Utilities': 2.687376725838264, 'Book': 1.6272189349112427}\n"
     ]
    }
   ],
   "source": [
    "ios_frequency = freq_table(ios_free,11)\n",
    "print(ios_frequency)\n",
    "#contador = 0\n",
    "#for key in ios_frequency:\n",
    "#    contador += ios_frequency[key]\n",
    "#    #suma += int(row[1])\n",
    "#print(contador)\n"
   ]
  },
  {
   "cell_type": "code",
   "execution_count": 27,
   "metadata": {
    "collapsed": true
   },
   "outputs": [],
   "source": [
    "def display_table(dataset, index):\n",
    "    table = freq_table(dataset, index)\n",
    "    table_display = []\n",
    "    for key in table:\n",
    "        key_val_as_tuple = (table[key], key)\n",
    "        table_display.append(key_val_as_tuple)\n",
    "\n",
    "    table_sorted = sorted(table_display, reverse = True)\n",
    "    for entry in table_sorted:\n",
    "        print(entry[1], ':', entry[0])"
   ]
  },
  {
   "cell_type": "code",
   "execution_count": 28,
   "metadata": {
    "collapsed": false
   },
   "outputs": [
    {
     "name": "stdout",
     "output_type": "stream",
     "text": [
      "Games : 55.64595660749507\n",
      "Entertainment : 8.234714003944774\n",
      "Photo & Video : 4.117357001972387\n",
      "Social Networking : 3.5256410256410255\n",
      "Education : 3.2544378698224854\n",
      "Shopping : 2.983234714003945\n",
      "Utilities : 2.687376725838264\n",
      "Lifestyle : 2.3175542406311638\n",
      "Finance : 2.0710059171597637\n",
      "Sports : 1.947731755424063\n",
      "Health & Fitness : 1.8737672583826428\n",
      "Music : 1.6518737672583828\n",
      "Book : 1.6272189349112427\n",
      "Productivity : 1.5285996055226825\n",
      "News : 1.4299802761341223\n",
      "Travel : 1.3806706114398422\n",
      "Food & Drink : 1.0601577909270217\n",
      "Weather : 0.7642998027613412\n",
      "Reference : 0.4930966469428008\n",
      "Navigation : 0.4930966469428008\n",
      "Business : 0.4930966469428008\n",
      "Catalogs : 0.22189349112426035\n",
      "Medical : 0.19723865877712032\n"
     ]
    }
   ],
   "source": [
    "display_table(ios_free, 11)"
   ]
  },
  {
   "cell_type": "code",
   "execution_count": 29,
   "metadata": {
    "collapsed": false
   },
   "outputs": [
    {
     "name": "stdout",
     "output_type": "stream",
     "text": [
      "FAMILY : 18.907942238267147\n",
      "GAME : 9.724729241877256\n",
      "TOOLS : 8.461191335740072\n",
      "BUSINESS : 4.591606498194946\n",
      "LIFESTYLE : 3.9034296028880866\n",
      "PRODUCTIVITY : 3.892148014440433\n",
      "FINANCE : 3.7003610108303246\n",
      "MEDICAL : 3.531137184115524\n",
      "SPORTS : 3.395758122743682\n",
      "PERSONALIZATION : 3.3167870036101084\n",
      "COMMUNICATION : 3.2378158844765346\n",
      "HEALTH_AND_FITNESS : 3.0798736462093865\n",
      "PHOTOGRAPHY : 2.944494584837545\n",
      "NEWS_AND_MAGAZINES : 2.7978339350180503\n",
      "SOCIAL : 2.6624548736462095\n",
      "TRAVEL_AND_LOCAL : 2.33528880866426\n",
      "SHOPPING : 2.2450361010830324\n",
      "BOOKS_AND_REFERENCE : 2.1435018050541514\n",
      "DATING : 1.861462093862816\n",
      "VIDEO_PLAYERS : 1.7937725631768955\n",
      "MAPS_AND_NAVIGATION : 1.3989169675090252\n",
      "FOOD_AND_DRINK : 1.2409747292418771\n",
      "EDUCATION : 1.1620036101083033\n",
      "ENTERTAINMENT : 0.9589350180505415\n",
      "LIBRARIES_AND_DEMO : 0.9363718411552346\n",
      "AUTO_AND_VEHICLES : 0.9250902527075812\n",
      "HOUSE_AND_HOME : 0.8235559566787004\n",
      "WEATHER : 0.8009927797833934\n",
      "EVENTS : 0.7107400722021661\n",
      "PARENTING : 0.6543321299638989\n",
      "ART_AND_DESIGN : 0.6430505415162455\n",
      "COMICS : 0.6204873646209386\n",
      "BEAUTY : 0.5979241877256317\n"
     ]
    }
   ],
   "source": [
    "display_table(android_free,1) #Category"
   ]
  },
  {
   "cell_type": "code",
   "execution_count": 30,
   "metadata": {
    "collapsed": false
   },
   "outputs": [
    {
     "name": "stdout",
     "output_type": "stream",
     "text": [
      "Tools : 8.449909747292418\n",
      "Entertainment : 6.069494584837545\n",
      "Education : 5.347472924187725\n",
      "Business : 4.591606498194946\n",
      "Productivity : 3.892148014440433\n",
      "Lifestyle : 3.892148014440433\n",
      "Finance : 3.7003610108303246\n",
      "Medical : 3.531137184115524\n",
      "Sports : 3.463447653429603\n",
      "Personalization : 3.3167870036101084\n",
      "Communication : 3.2378158844765346\n",
      "Action : 3.1024368231046933\n",
      "Health & Fitness : 3.0798736462093865\n",
      "Photography : 2.944494584837545\n",
      "News & Magazines : 2.7978339350180503\n",
      "Social : 2.6624548736462095\n",
      "Travel & Local : 2.3240072202166067\n",
      "Shopping : 2.2450361010830324\n",
      "Books & Reference : 2.1435018050541514\n",
      "Simulation : 2.0419675090252705\n",
      "Dating : 1.861462093862816\n",
      "Arcade : 1.8501805054151623\n",
      "Video Players & Editors : 1.7712093862815883\n",
      "Casual : 1.7599277978339352\n",
      "Maps & Navigation : 1.3989169675090252\n",
      "Food & Drink : 1.2409747292418771\n",
      "Puzzle : 1.128158844765343\n",
      "Racing : 0.9927797833935018\n",
      "Role Playing : 0.9363718411552346\n",
      "Libraries & Demo : 0.9363718411552346\n",
      "Auto & Vehicles : 0.9250902527075812\n",
      "Strategy : 0.9138086642599278\n",
      "House & Home : 0.8235559566787004\n",
      "Weather : 0.8009927797833934\n",
      "Events : 0.7107400722021661\n",
      "Adventure : 0.6768953068592057\n",
      "Comics : 0.6092057761732852\n",
      "Beauty : 0.5979241877256317\n",
      "Art & Design : 0.5979241877256317\n",
      "Parenting : 0.4963898916967509\n",
      "Card : 0.45126353790613716\n",
      "Casino : 0.42870036101083037\n",
      "Trivia : 0.41741877256317694\n",
      "Educational;Education : 0.39485559566787\n",
      "Board : 0.3835740072202166\n",
      "Educational : 0.3722924187725632\n",
      "Education;Education : 0.33844765342960287\n",
      "Word : 0.2594765342960289\n",
      "Casual;Pretend Play : 0.236913357400722\n",
      "Music : 0.2030685920577617\n",
      "Racing;Action & Adventure : 0.16922382671480143\n",
      "Puzzle;Brain Games : 0.16922382671480143\n",
      "Entertainment;Music & Video : 0.16922382671480143\n",
      "Casual;Brain Games : 0.13537906137184114\n",
      "Casual;Action & Adventure : 0.13537906137184114\n",
      "Arcade;Action & Adventure : 0.12409747292418773\n",
      "Action;Action & Adventure : 0.10153429602888085\n",
      "Educational;Pretend Play : 0.09025270758122744\n",
      "Simulation;Action & Adventure : 0.078971119133574\n",
      "Parenting;Education : 0.078971119133574\n",
      "Entertainment;Brain Games : 0.078971119133574\n",
      "Board;Brain Games : 0.078971119133574\n",
      "Parenting;Music & Video : 0.06768953068592057\n",
      "Educational;Brain Games : 0.06768953068592057\n",
      "Casual;Creativity : 0.06768953068592057\n",
      "Art & Design;Creativity : 0.06768953068592057\n",
      "Education;Pretend Play : 0.056407942238267145\n",
      "Role Playing;Pretend Play : 0.04512635379061372\n",
      "Education;Creativity : 0.04512635379061372\n",
      "Role Playing;Action & Adventure : 0.033844765342960284\n",
      "Puzzle;Action & Adventure : 0.033844765342960284\n",
      "Entertainment;Creativity : 0.033844765342960284\n",
      "Entertainment;Action & Adventure : 0.033844765342960284\n",
      "Educational;Creativity : 0.033844765342960284\n",
      "Educational;Action & Adventure : 0.033844765342960284\n",
      "Education;Music & Video : 0.033844765342960284\n",
      "Education;Brain Games : 0.033844765342960284\n",
      "Education;Action & Adventure : 0.033844765342960284\n",
      "Adventure;Action & Adventure : 0.033844765342960284\n",
      "Video Players & Editors;Music & Video : 0.02256317689530686\n",
      "Sports;Action & Adventure : 0.02256317689530686\n",
      "Simulation;Pretend Play : 0.02256317689530686\n",
      "Puzzle;Creativity : 0.02256317689530686\n",
      "Music;Music & Video : 0.02256317689530686\n",
      "Entertainment;Pretend Play : 0.02256317689530686\n",
      "Casual;Education : 0.02256317689530686\n",
      "Board;Action & Adventure : 0.02256317689530686\n",
      "Video Players & Editors;Creativity : 0.01128158844765343\n",
      "Trivia;Education : 0.01128158844765343\n",
      "Travel & Local;Action & Adventure : 0.01128158844765343\n",
      "Tools;Education : 0.01128158844765343\n",
      "Strategy;Education : 0.01128158844765343\n",
      "Strategy;Creativity : 0.01128158844765343\n",
      "Strategy;Action & Adventure : 0.01128158844765343\n",
      "Simulation;Education : 0.01128158844765343\n",
      "Role Playing;Brain Games : 0.01128158844765343\n",
      "Racing;Pretend Play : 0.01128158844765343\n",
      "Puzzle;Education : 0.01128158844765343\n",
      "Parenting;Brain Games : 0.01128158844765343\n",
      "Music & Audio;Music & Video : 0.01128158844765343\n",
      "Lifestyle;Pretend Play : 0.01128158844765343\n",
      "Lifestyle;Education : 0.01128158844765343\n",
      "Health & Fitness;Education : 0.01128158844765343\n",
      "Health & Fitness;Action & Adventure : 0.01128158844765343\n",
      "Entertainment;Education : 0.01128158844765343\n",
      "Communication;Creativity : 0.01128158844765343\n",
      "Comics;Creativity : 0.01128158844765343\n",
      "Casual;Music & Video : 0.01128158844765343\n",
      "Card;Action & Adventure : 0.01128158844765343\n",
      "Books & Reference;Education : 0.01128158844765343\n",
      "Art & Design;Pretend Play : 0.01128158844765343\n",
      "Art & Design;Action & Adventure : 0.01128158844765343\n",
      "Arcade;Pretend Play : 0.01128158844765343\n",
      "Adventure;Education : 0.01128158844765343\n"
     ]
    }
   ],
   "source": [
    "display_table(android_free, 9) #Genres"
   ]
  },
  {
   "cell_type": "markdown",
   "metadata": {},
   "source": [
    "Conclusion: The frequency tables we analyzed on the previous screen showed us that the App Store is dominated by apps designed for fun, while Google Play shows a more balanced landscape of both practical and fun apps. "
   ]
  },
  {
   "cell_type": "markdown",
   "metadata": {},
   "source": [
    "# Kind of apps with the most users\n",
    "* Utilizamos la función que habíamos hecho para extraer diccionario con la frecuencia de un género en la tabla de IOS.\n",
    "* Establecemos dos contadores, uno para el total de la suma de todas las reviews de un género y otro que cuenta el número de registros dentro de un género.\n",
    "* El número de valoraciones medio lo dará el resultado de dividir el total de valoraciones partido el número de aplicaciones en un género."
   ]
  },
  {
   "cell_type": "code",
   "execution_count": 31,
   "metadata": {
    "collapsed": false
   },
   "outputs": [
    {
     "name": "stdout",
     "output_type": "stream",
     "text": [
      "Music : 56482.02985074627\n",
      "Productivity : 19053.887096774193\n",
      "Reference : 67447.9\n",
      "Navigation : 25972.05\n",
      "Catalogs : 1779.5555555555557\n",
      "Shopping : 18746.677685950413\n",
      "Lifestyle : 8978.308510638299\n",
      "Health & Fitness : 19952.315789473683\n",
      "Business : 6367.8\n",
      "Food & Drink : 20179.093023255813\n",
      "Photo & Video : 27249.892215568863\n",
      "Social Networking : 53078.195804195806\n",
      "Weather : 47220.93548387097\n",
      "Education : 6266.333333333333\n",
      "Sports : 20128.974683544304\n",
      "News : 15892.724137931034\n",
      "Finance : 13522.261904761905\n",
      "Medical : 459.75\n",
      "Entertainment : 10822.961077844311\n",
      "Games : 18924.68896765618\n",
      "Travel : 20216.01785714286\n",
      "Utilities : 14010.100917431193\n",
      "Book : 8498.333333333334\n"
     ]
    }
   ],
   "source": [
    "genres_ios = freq_table(ios_free,11)\n",
    "\n",
    "for genre in genres_ios:\n",
    "    total = 0\n",
    "    len_genre = 0\n",
    "    for row in ios_free:\n",
    "        genre_app = row[11]\n",
    "        if genre_app == genre:\n",
    "            n_ratings = float(row[5])\n",
    "            total += n_ratings\n",
    "            len_genre += 1\n",
    "    avg_n_ratings = total / len_genre\n",
    "    print(genre, ':', avg_n_ratings)"
   ]
  },
  {
   "cell_type": "markdown",
   "metadata": {},
   "source": [
    "# Let's calculate the average number of installs per app genre for the Google Play data set.\n",
    "\n",
    "* Generamos una tabla de frecuencia para categoría usando la función de frecuencia que habíamos creado.\n",
    "* Iteramos por cada categoría de esa tabla.\n",
    "* Creamos contado de total para el número total de instalaciones y el de longitud para el número de aplicaciones en cada categoría.\n",
    "* por cada línea, limpiamos el número de instalaciones quitando el + y la coma, y metiéndolo detro de la variable n_installs.\n",
    "* sumamos ese dato al total y añadimos 1 a la longitud.\n",
    "* fuera del loop, extraemos la media de instalaciones por aplicación, resultado de "
   ]
  },
  {
   "cell_type": "code",
   "execution_count": 49,
   "metadata": {
    "collapsed": false
   },
   "outputs": [
    {
     "name": "stdout",
     "output_type": "stream",
     "text": [
      "HEALTH_AND_FITNESS : 4188821.9853479853\n",
      "LIFESTYLE : 1437816.2687861272\n",
      "FAMILY : 3695641.8198090694\n",
      "ART_AND_DESIGN : 1986335.0877192982\n",
      "MEDICAL : 120550.61980830671\n",
      "HOUSE_AND_HOME : 1331540.5616438356\n",
      "GAME : 15588015.603248259\n",
      "AUTO_AND_VEHICLES : 647317.8170731707\n",
      "FINANCE : 1387692.475609756\n",
      "EVENTS : 253542.22222222222\n",
      "PARENTING : 542603.6206896552\n",
      "VIDEO_PLAYERS : 24727872.452830188\n",
      "NEWS_AND_MAGAZINES : 9549178.467741935\n",
      "SOCIAL : 23253652.127118643\n",
      "SPORTS : 3638640.1428571427\n",
      "EDUCATION : 1833495.145631068\n",
      "LIBRARIES_AND_DEMO : 638503.734939759\n",
      "TOOLS : 10801391.298666667\n",
      "MAPS_AND_NAVIGATION : 4056941.7741935486\n",
      "ENTERTAINMENT : 11640705.88235294\n",
      "DATING : 854028.8303030303\n",
      "PRODUCTIVITY : 16787331.344927534\n",
      "BOOKS_AND_REFERENCE : 8767811.894736841\n",
      "BUSINESS : 1712290.1474201474\n",
      "COMICS : 817657.2727272727\n",
      "PHOTOGRAPHY : 17840110.40229885\n",
      "PERSONALIZATION : 5201482.6122448975\n",
      "TRAVEL_AND_LOCAL : 13984077.710144928\n",
      "BEAUTY : 513151.88679245283\n",
      "FOOD_AND_DRINK : 1924897.7363636363\n",
      "SHOPPING : 7036877.311557789\n",
      "WEATHER : 5074486.197183099\n",
      "COMMUNICATION : 38456119.167247385\n"
     ]
    }
   ],
   "source": [
    "categories_android = freq_table(android_free,1)\n",
    "final_dictionary = {}\n",
    "for category in categories_android:\n",
    "    total = 0\n",
    "    len_category = 0\n",
    "    for row in android_free:\n",
    "        category_app = row[1]\n",
    "        if category_app == category:\n",
    "            n_installs = row[5] #columna del número de instalaciones\n",
    "            n_installs = n_installs.replace('+', '')\n",
    "            n_installs = n_installs.replace(',', '')\n",
    "            total += float(n_installs)\n",
    "            len_category += 1\n",
    "    avg_n_installs = total / len_category\n",
    "    final_dictionary[category] = avg_n_installs\n",
    "    print(category, ':', avg_n_installs)"
   ]
  },
  {
   "cell_type": "code",
   "execution_count": 53,
   "metadata": {
    "collapsed": false
   },
   "outputs": [
    {
     "name": "stdout",
     "output_type": "stream",
     "text": [
      "[(120550.61980830671, 'MEDICAL'),\n",
      " (253542.22222222222, 'EVENTS'),\n",
      " (513151.88679245283, 'BEAUTY'),\n",
      " (542603.6206896552, 'PARENTING'),\n",
      " (638503.734939759, 'LIBRARIES_AND_DEMO'),\n",
      " (647317.8170731707, 'AUTO_AND_VEHICLES'),\n",
      " (817657.2727272727, 'COMICS'),\n",
      " (854028.8303030303, 'DATING'),\n",
      " (1331540.5616438356, 'HOUSE_AND_HOME'),\n",
      " (1387692.475609756, 'FINANCE'),\n",
      " (1437816.2687861272, 'LIFESTYLE'),\n",
      " (1712290.1474201474, 'BUSINESS'),\n",
      " (1833495.145631068, 'EDUCATION'),\n",
      " (1924897.7363636363, 'FOOD_AND_DRINK'),\n",
      " (1986335.0877192982, 'ART_AND_DESIGN'),\n",
      " (3638640.1428571427, 'SPORTS'),\n",
      " (3695641.8198090694, 'FAMILY'),\n",
      " (4056941.7741935486, 'MAPS_AND_NAVIGATION'),\n",
      " (4188821.9853479853, 'HEALTH_AND_FITNESS'),\n",
      " (5074486.197183099, 'WEATHER'),\n",
      " (5201482.6122448975, 'PERSONALIZATION'),\n",
      " (7036877.311557789, 'SHOPPING'),\n",
      " (8767811.894736841, 'BOOKS_AND_REFERENCE'),\n",
      " (9549178.467741935, 'NEWS_AND_MAGAZINES'),\n",
      " (10801391.298666667, 'TOOLS'),\n",
      " (11640705.88235294, 'ENTERTAINMENT'),\n",
      " (13984077.710144928, 'TRAVEL_AND_LOCAL'),\n",
      " (15588015.603248259, 'GAME'),\n",
      " (16787331.344927534, 'PRODUCTIVITY'),\n",
      " (17840110.40229885, 'PHOTOGRAPHY'),\n",
      " (23253652.127118643, 'SOCIAL'),\n",
      " (24727872.452830188, 'VIDEO_PLAYERS'),\n",
      " (38456119.167247385, 'COMMUNICATION')]\n"
     ]
    }
   ],
   "source": [
    "sorted_d = sorted((value, key) for (key, value) in final_dictionary.items())\n",
    "import pprint\n",
    "pprint.pprint(sorted_d)"
   ]
  },
  {
   "cell_type": "code",
   "execution_count": null,
   "metadata": {
    "collapsed": true
   },
   "outputs": [],
   "source": []
  }
 ],
 "metadata": {
  "kernelspec": {
   "display_name": "Python 3",
   "language": "python",
   "name": "python3"
  },
  "language_info": {
   "codemirror_mode": {
    "name": "ipython",
    "version": 3
   },
   "file_extension": ".py",
   "mimetype": "text/x-python",
   "name": "python",
   "nbconvert_exporter": "python",
   "pygments_lexer": "ipython3",
   "version": "3.4.3"
  }
 },
 "nbformat": 4,
 "nbformat_minor": 2
}
